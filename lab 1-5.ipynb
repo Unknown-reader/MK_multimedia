{
 "cells": [
  {
   "cell_type": "markdown",
   "metadata": {},
   "source": [
    "# Лабораторные работы 1-5 (Медведев К.В.)"
   ]
  },
  {
   "cell_type": "markdown",
   "metadata": {},
   "source": [
    "# ЛР 1 (KNN)"
   ]
  },
  {
   "cell_type": "markdown",
   "metadata": {},
   "source": [
    "\n",
    "\n",
    "Датасеты для задач классификации и регрессии, метрики моделей, а также обоснования их выбора приведены в `README.md` файле репозитория."
   ]
  },
  {
   "cell_type": "code",
   "execution_count": 705,
   "metadata": {},
   "outputs": [],
   "source": [
    "import warnings\n",
    "warnings.filterwarnings(\"ignore\")\n",
    "import pandas as pd\n",
    "import numpy as np\n",
    "import matplotlib.pyplot as plt\n",
    "import seaborn as sns\n",
    "from sklearn import preprocessing\n",
    "from sklearn.preprocessing import LabelEncoder, OrdinalEncoder, RobustScaler, PowerTransformer\n",
    "from sklearn.model_selection import train_test_split\n",
    "from sklearn.preprocessing import StandardScaler\n",
    "from sklearn.neighbors import KNeighborsClassifier, KNeighborsRegressor\n",
    "from sklearn.metrics import accuracy_score, precision_score, recall_score, f1_score, mean_absolute_error, r2_score\n",
    "from sklearn.linear_model import LinearRegression, Ridge\n",
    "from sklearn.model_selection import train_test_split, GridSearchCV\n",
    "from sklearn.preprocessing import StandardScaler, PolynomialFeatures\n",
    "from collections import Counter\n",
    "from sklearn.ensemble import RandomForestRegressor\n",
    "from sklearn.model_selection import train_test_split\n",
    "from sklearn.linear_model import LogisticRegression\n",
    "from sklearn.tree import DecisionTreeClassifier\n",
    "from sklearn.ensemble import RandomForestClassifier\n",
    "from sklearn.ensemble import GradientBoostingClassifier\n",
    "from sklearn.preprocessing import Normalizer\n",
    "from scipy.spatial import distance\n",
    "from sklearn.linear_model import LinearRegression\n",
    "from sklearn.model_selection import KFold\n",
    "from sklearn.tree import DecisionTreeRegressor\n",
    "from sklearn.ensemble import RandomForestRegressor\n",
    "from sklearn.ensemble import GradientBoostingRegressor"
   ]
  },
  {
   "cell_type": "markdown",
   "metadata": {},
   "source": [
    "### Задача классификации"
   ]
  },
  {
   "cell_type": "markdown",
   "metadata": {},
   "source": [
    "#### Предобработка датасета `salary.csv`"
   ]
  },
  {
   "cell_type": "code",
   "execution_count": 609,
   "metadata": {},
   "outputs": [
    {
     "data": {
      "text/html": [
       "<div>\n",
       "<style scoped>\n",
       "    .dataframe tbody tr th:only-of-type {\n",
       "        vertical-align: middle;\n",
       "    }\n",
       "\n",
       "    .dataframe tbody tr th {\n",
       "        vertical-align: top;\n",
       "    }\n",
       "\n",
       "    .dataframe thead th {\n",
       "        text-align: right;\n",
       "    }\n",
       "</style>\n",
       "<table border=\"1\" class=\"dataframe\">\n",
       "  <thead>\n",
       "    <tr style=\"text-align: right;\">\n",
       "      <th></th>\n",
       "      <th>age</th>\n",
       "      <th>workclass</th>\n",
       "      <th>fnlwgt</th>\n",
       "      <th>education</th>\n",
       "      <th>education-num</th>\n",
       "      <th>marital-status</th>\n",
       "      <th>occupation</th>\n",
       "      <th>relationship</th>\n",
       "      <th>race</th>\n",
       "      <th>sex</th>\n",
       "      <th>capital-gain</th>\n",
       "      <th>capital-loss</th>\n",
       "      <th>hours-per-week</th>\n",
       "      <th>native-country</th>\n",
       "      <th>salary</th>\n",
       "    </tr>\n",
       "  </thead>\n",
       "  <tbody>\n",
       "    <tr>\n",
       "      <th>0</th>\n",
       "      <td>39</td>\n",
       "      <td>State-gov</td>\n",
       "      <td>77516</td>\n",
       "      <td>Bachelors</td>\n",
       "      <td>13</td>\n",
       "      <td>Never-married</td>\n",
       "      <td>Adm-clerical</td>\n",
       "      <td>Not-in-family</td>\n",
       "      <td>White</td>\n",
       "      <td>Male</td>\n",
       "      <td>2174</td>\n",
       "      <td>0</td>\n",
       "      <td>40</td>\n",
       "      <td>United-States</td>\n",
       "      <td>&lt;=50K</td>\n",
       "    </tr>\n",
       "    <tr>\n",
       "      <th>1</th>\n",
       "      <td>50</td>\n",
       "      <td>Self-emp-not-inc</td>\n",
       "      <td>83311</td>\n",
       "      <td>Bachelors</td>\n",
       "      <td>13</td>\n",
       "      <td>Married-civ-spouse</td>\n",
       "      <td>Exec-managerial</td>\n",
       "      <td>Husband</td>\n",
       "      <td>White</td>\n",
       "      <td>Male</td>\n",
       "      <td>0</td>\n",
       "      <td>0</td>\n",
       "      <td>13</td>\n",
       "      <td>United-States</td>\n",
       "      <td>&lt;=50K</td>\n",
       "    </tr>\n",
       "    <tr>\n",
       "      <th>2</th>\n",
       "      <td>38</td>\n",
       "      <td>Private</td>\n",
       "      <td>215646</td>\n",
       "      <td>HS-grad</td>\n",
       "      <td>9</td>\n",
       "      <td>Divorced</td>\n",
       "      <td>Handlers-cleaners</td>\n",
       "      <td>Not-in-family</td>\n",
       "      <td>White</td>\n",
       "      <td>Male</td>\n",
       "      <td>0</td>\n",
       "      <td>0</td>\n",
       "      <td>40</td>\n",
       "      <td>United-States</td>\n",
       "      <td>&lt;=50K</td>\n",
       "    </tr>\n",
       "    <tr>\n",
       "      <th>3</th>\n",
       "      <td>53</td>\n",
       "      <td>Private</td>\n",
       "      <td>234721</td>\n",
       "      <td>11th</td>\n",
       "      <td>7</td>\n",
       "      <td>Married-civ-spouse</td>\n",
       "      <td>Handlers-cleaners</td>\n",
       "      <td>Husband</td>\n",
       "      <td>Black</td>\n",
       "      <td>Male</td>\n",
       "      <td>0</td>\n",
       "      <td>0</td>\n",
       "      <td>40</td>\n",
       "      <td>United-States</td>\n",
       "      <td>&lt;=50K</td>\n",
       "    </tr>\n",
       "    <tr>\n",
       "      <th>4</th>\n",
       "      <td>28</td>\n",
       "      <td>Private</td>\n",
       "      <td>338409</td>\n",
       "      <td>Bachelors</td>\n",
       "      <td>13</td>\n",
       "      <td>Married-civ-spouse</td>\n",
       "      <td>Prof-specialty</td>\n",
       "      <td>Wife</td>\n",
       "      <td>Black</td>\n",
       "      <td>Female</td>\n",
       "      <td>0</td>\n",
       "      <td>0</td>\n",
       "      <td>40</td>\n",
       "      <td>Cuba</td>\n",
       "      <td>&lt;=50K</td>\n",
       "    </tr>\n",
       "  </tbody>\n",
       "</table>\n",
       "</div>"
      ],
      "text/plain": [
       "   age          workclass  fnlwgt   education  education-num  \\\n",
       "0   39          State-gov   77516   Bachelors             13   \n",
       "1   50   Self-emp-not-inc   83311   Bachelors             13   \n",
       "2   38            Private  215646     HS-grad              9   \n",
       "3   53            Private  234721        11th              7   \n",
       "4   28            Private  338409   Bachelors             13   \n",
       "\n",
       "        marital-status          occupation    relationship    race      sex  \\\n",
       "0        Never-married        Adm-clerical   Not-in-family   White     Male   \n",
       "1   Married-civ-spouse     Exec-managerial         Husband   White     Male   \n",
       "2             Divorced   Handlers-cleaners   Not-in-family   White     Male   \n",
       "3   Married-civ-spouse   Handlers-cleaners         Husband   Black     Male   \n",
       "4   Married-civ-spouse      Prof-specialty            Wife   Black   Female   \n",
       "\n",
       "   capital-gain  capital-loss  hours-per-week  native-country  salary  \n",
       "0          2174             0              40   United-States   <=50K  \n",
       "1             0             0              13   United-States   <=50K  \n",
       "2             0             0              40   United-States   <=50K  \n",
       "3             0             0              40   United-States   <=50K  \n",
       "4             0             0              40            Cuba   <=50K  "
      ]
     },
     "execution_count": 609,
     "metadata": {},
     "output_type": "execute_result"
    }
   ],
   "source": [
    "salary_df = pd.read_csv('datasets/salary.csv')\n",
    "\n",
    "salary_df.head()"
   ]
  },
  {
   "cell_type": "markdown",
   "metadata": {},
   "source": [
    "Оценим число людей получающих более 50'000$ и менее, именно по этому признаку мы будем их классифицировать."
   ]
  },
  {
   "cell_type": "code",
   "execution_count": 610,
   "metadata": {},
   "outputs": [
    {
     "data": {
      "text/plain": [
       "salary\n",
       "<=50K    24720\n",
       ">50K      7841\n",
       "Name: count, dtype: int64"
      ]
     },
     "execution_count": 610,
     "metadata": {},
     "output_type": "execute_result"
    }
   ],
   "source": [
    "salary_df['salary'].value_counts()"
   ]
  },
  {
   "cell_type": "markdown",
   "metadata": {},
   "source": [
    "О датасете заранее известно что пропущенные данные обозначены символом `?`. Заменим его на Nan и обработаем пустые значения."
   ]
  },
  {
   "cell_type": "code",
   "execution_count": 611,
   "metadata": {},
   "outputs": [
    {
     "data": {
      "text/plain": [
       "age                  0\n",
       "workclass         1836\n",
       "fnlwgt               0\n",
       "education            0\n",
       "education-num        0\n",
       "marital-status       0\n",
       "occupation        1843\n",
       "relationship         0\n",
       "race                 0\n",
       "sex                  0\n",
       "capital-gain         0\n",
       "capital-loss         0\n",
       "hours-per-week       0\n",
       "native-country     583\n",
       "salary               0\n",
       "dtype: int64"
      ]
     },
     "execution_count": 611,
     "metadata": {},
     "output_type": "execute_result"
    }
   ],
   "source": [
    "salary_df.replace(' ?' , np.nan ,inplace=True)\n",
    "salary_df.isna().sum()"
   ]
  },
  {
   "cell_type": "markdown",
   "metadata": {},
   "source": [
    "Имеем пустые значения в колонках:\n",
    "- `workclass` (тип занятости: частный сектор, государственная работа и тд.)\n",
    "- `occupation` (профессия: продажи, административная должность, мэнеджеры и тд.)\n",
    "- `native-country` (страна проихсождения)\n",
    "\n",
    "Заменим `Nan` в этих колонках на `Other`, `Other`, `Other-service` соответственно."
   ]
  },
  {
   "cell_type": "code",
   "execution_count": 612,
   "metadata": {},
   "outputs": [],
   "source": [
    "salary_df[ 'workclass' ] = salary_df[ 'workclass' ].fillna('Other-service')\n",
    "salary_df[ 'occupation' ] = salary_df[ 'occupation' ].fillna('Other')\n",
    "salary_df[ 'native-country' ] = salary_df[ 'native-country' ].fillna('Other')"
   ]
  },
  {
   "cell_type": "markdown",
   "metadata": {},
   "source": [
    "Явно отметим колонки с категориальными данными."
   ]
  },
  {
   "cell_type": "code",
   "execution_count": 613,
   "metadata": {},
   "outputs": [
    {
     "name": "stdout",
     "output_type": "stream",
     "text": [
      "workclass\n",
      "education\n",
      "marital-status\n",
      "occupation\n",
      "relationship\n",
      "race\n",
      "sex\n",
      "native-country\n",
      "salary\n"
     ]
    }
   ],
   "source": [
    "categoric_columns_salary = salary_df.select_dtypes(include=[ 'object' ]).columns\n",
    "for column_name in categoric_columns_salary:\n",
    "    print(column_name)"
   ]
  },
  {
   "cell_type": "markdown",
   "metadata": {},
   "source": [
    "Явно отметим колонки с числовыми данными"
   ]
  },
  {
   "cell_type": "code",
   "execution_count": 614,
   "metadata": {},
   "outputs": [
    {
     "name": "stdout",
     "output_type": "stream",
     "text": [
      "age\n",
      "fnlwgt\n",
      "education-num\n",
      "capital-gain\n",
      "capital-loss\n",
      "hours-per-week\n"
     ]
    }
   ],
   "source": [
    "numeric_columns_salary = salary_df.select_dtypes(include=[ 'number' ]).columns\n",
    "for column_name in numeric_columns_salary:\n",
    "    print(column_name)"
   ]
  },
  {
   "cell_type": "code",
   "execution_count": 615,
   "metadata": {},
   "outputs": [
    {
     "data": {
      "image/png": "[encoded data removed]",
      "text/plain": [
       "<Figure size 1400x700 with 2 Axes>"
      ]
     },
     "metadata": {},
     "output_type": "display_data"
    }
   ],
   "source": [
    "plt.figure(figsize = (14,7))\n",
    "sns.heatmap(salary_df.select_dtypes(include=[ 'number' ]).corr() , annot=True , cmap = 'Blues')\n",
    "plt.show()"
   ]
  },
  {
   "cell_type": "markdown",
   "metadata": {},
   "source": [
    "Колонка `education-num` являет собой численную интерпретацию колокнки `education`, удалим вторую."
   ]
  },
  {
   "cell_type": "code",
   "execution_count": 616,
   "metadata": {},
   "outputs": [],
   "source": [
    "salary_df = salary_df.drop(columns=['education'])\n",
    "\n",
    "categoric_columns_salary = categoric_columns_salary.tolist()\n",
    "categoric_columns_salary.remove('education')\n",
    "categoric_columns_salary = pd.Index(categoric_columns_salary)"
   ]
  },
  {
   "cell_type": "markdown",
   "metadata": {},
   "source": [
    "Оценим категориальные переменные. И преобразуем их техникой `Label Encoding`, `One-Hot-Encoding`."
   ]
  },
  {
   "cell_type": "code",
   "execution_count": 617,
   "metadata": {},
   "outputs": [
    {
     "name": "stdout",
     "output_type": "stream",
     "text": [
      "workclass\n",
      " Private             22696\n",
      " Self-emp-not-inc     2541\n",
      " Local-gov            2093\n",
      "Other-service         1836\n",
      " State-gov            1298\n",
      " Self-emp-inc         1116\n",
      " Federal-gov           960\n",
      " Without-pay            14\n",
      " Never-worked            7\n",
      "Name: count, dtype: int64\n",
      "\n",
      "marital-status\n",
      "Married-civ-spouse       14976\n",
      "Never-married            10683\n",
      "Divorced                  4443\n",
      "Separated                 1025\n",
      "Widowed                    993\n",
      "Married-spouse-absent      418\n",
      "Married-AF-spouse           23\n",
      "Name: count, dtype: int64\n",
      "\n",
      "occupation\n",
      " Prof-specialty       4140\n",
      " Craft-repair         4099\n",
      " Exec-managerial      4066\n",
      " Adm-clerical         3770\n",
      " Sales                3650\n",
      " Other-service        3295\n",
      " Machine-op-inspct    2002\n",
      "Other                 1843\n",
      " Transport-moving     1597\n",
      " Handlers-cleaners    1370\n",
      " Farming-fishing       994\n",
      " Tech-support          928\n",
      " Protective-serv       649\n",
      " Priv-house-serv       149\n",
      " Armed-Forces            9\n",
      "Name: count, dtype: int64\n",
      "\n",
      "relationship\n",
      "Husband           13193\n",
      "Not-in-family      8305\n",
      "Own-child          5068\n",
      "Unmarried          3446\n",
      "Wife               1568\n",
      "Other-relative      981\n",
      "Name: count, dtype: int64\n",
      "\n",
      "race\n",
      "White                 27816\n",
      "Black                  3124\n",
      "Asian-Pac-Islander     1039\n",
      "Amer-Indian-Eskimo      311\n",
      "Other                   271\n",
      "Name: count, dtype: int64\n",
      "\n",
      "sex\n",
      "Male      21790\n",
      "Female    10771\n",
      "Name: count, dtype: int64\n",
      "\n",
      "native-country\n",
      " United-States                 29170\n",
      " Mexico                          643\n",
      "Other                            583\n",
      " Philippines                     198\n",
      " Germany                         137\n",
      " Canada                          121\n",
      " Puerto-Rico                     114\n",
      " El-Salvador                     106\n",
      " India                           100\n",
      " Cuba                             95\n",
      " England                          90\n",
      " Jamaica                          81\n",
      " South                            80\n",
      " China                            75\n",
      " Italy                            73\n",
      " Dominican-Republic               70\n",
      " Vietnam                          67\n",
      " Guatemala                        64\n",
      " Japan                            62\n",
      " Poland                           60\n",
      " Columbia                         59\n",
      " Taiwan                           51\n",
      " Haiti                            44\n",
      " Iran                             43\n",
      " Portugal                         37\n",
      " Nicaragua                        34\n",
      " Peru                             31\n",
      " France                           29\n",
      " Greece                           29\n",
      " Ecuador                          28\n",
      " Ireland                          24\n",
      " Hong                             20\n",
      " Trinadad&Tobago                  19\n",
      " Cambodia                         19\n",
      " Thailand                         18\n",
      " Laos                             18\n",
      " Yugoslavia                       16\n",
      " Outlying-US(Guam-USVI-etc)       14\n",
      " Honduras                         13\n",
      " Hungary                          13\n",
      " Scotland                         12\n",
      " Holand-Netherlands                1\n",
      "Name: count, dtype: int64\n",
      "\n",
      "salary\n",
      "<=50K    24720\n",
      ">50K      7841\n",
      "Name: count, dtype: int64\n",
      "\n"
     ]
    }
   ],
   "source": [
    "for column_name in categoric_columns_salary:\n",
    "    print(salary_df[column_name].value_counts())\n",
    "    print()"
   ]
  },
  {
   "cell_type": "code",
   "execution_count": 618,
   "metadata": {},
   "outputs": [
    {
     "data": {
      "text/html": [
       "<div>\n",
       "<style scoped>\n",
       "    .dataframe tbody tr th:only-of-type {\n",
       "        vertical-align: middle;\n",
       "    }\n",
       "\n",
       "    .dataframe tbody tr th {\n",
       "        vertical-align: top;\n",
       "    }\n",
       "\n",
       "    .dataframe thead th {\n",
       "        text-align: right;\n",
       "    }\n",
       "</style>\n",
       "<table border=\"1\" class=\"dataframe\">\n",
       "  <thead>\n",
       "    <tr style=\"text-align: right;\">\n",
       "      <th></th>\n",
       "      <th>age</th>\n",
       "      <th>fnlwgt</th>\n",
       "      <th>education-num</th>\n",
       "      <th>marital-status</th>\n",
       "      <th>occupation</th>\n",
       "      <th>sex</th>\n",
       "      <th>capital-gain</th>\n",
       "      <th>capital-loss</th>\n",
       "      <th>hours-per-week</th>\n",
       "      <th>native-country</th>\n",
       "      <th>...</th>\n",
       "      <th>workclass_other</th>\n",
       "      <th>race_ Asian-Pac-Islander</th>\n",
       "      <th>race_ Black</th>\n",
       "      <th>race_ Other</th>\n",
       "      <th>race_ White</th>\n",
       "      <th>relationship_ Not-in-family</th>\n",
       "      <th>relationship_ Other-relative</th>\n",
       "      <th>relationship_ Own-child</th>\n",
       "      <th>relationship_ Unmarried</th>\n",
       "      <th>relationship_ Wife</th>\n",
       "    </tr>\n",
       "  </thead>\n",
       "  <tbody>\n",
       "    <tr>\n",
       "      <th>0</th>\n",
       "      <td>39</td>\n",
       "      <td>77516</td>\n",
       "      <td>13</td>\n",
       "      <td>4</td>\n",
       "      <td>0</td>\n",
       "      <td>1</td>\n",
       "      <td>2174</td>\n",
       "      <td>0</td>\n",
       "      <td>40</td>\n",
       "      <td>38</td>\n",
       "      <td>...</td>\n",
       "      <td>1</td>\n",
       "      <td>0</td>\n",
       "      <td>0</td>\n",
       "      <td>0</td>\n",
       "      <td>1</td>\n",
       "      <td>1</td>\n",
       "      <td>0</td>\n",
       "      <td>0</td>\n",
       "      <td>0</td>\n",
       "      <td>0</td>\n",
       "    </tr>\n",
       "    <tr>\n",
       "      <th>1</th>\n",
       "      <td>50</td>\n",
       "      <td>83311</td>\n",
       "      <td>13</td>\n",
       "      <td>2</td>\n",
       "      <td>3</td>\n",
       "      <td>1</td>\n",
       "      <td>0</td>\n",
       "      <td>0</td>\n",
       "      <td>13</td>\n",
       "      <td>38</td>\n",
       "      <td>...</td>\n",
       "      <td>0</td>\n",
       "      <td>0</td>\n",
       "      <td>0</td>\n",
       "      <td>0</td>\n",
       "      <td>1</td>\n",
       "      <td>0</td>\n",
       "      <td>0</td>\n",
       "      <td>0</td>\n",
       "      <td>0</td>\n",
       "      <td>0</td>\n",
       "    </tr>\n",
       "    <tr>\n",
       "      <th>2</th>\n",
       "      <td>38</td>\n",
       "      <td>215646</td>\n",
       "      <td>9</td>\n",
       "      <td>0</td>\n",
       "      <td>5</td>\n",
       "      <td>1</td>\n",
       "      <td>0</td>\n",
       "      <td>0</td>\n",
       "      <td>40</td>\n",
       "      <td>38</td>\n",
       "      <td>...</td>\n",
       "      <td>0</td>\n",
       "      <td>0</td>\n",
       "      <td>0</td>\n",
       "      <td>0</td>\n",
       "      <td>1</td>\n",
       "      <td>1</td>\n",
       "      <td>0</td>\n",
       "      <td>0</td>\n",
       "      <td>0</td>\n",
       "      <td>0</td>\n",
       "    </tr>\n",
       "    <tr>\n",
       "      <th>3</th>\n",
       "      <td>53</td>\n",
       "      <td>234721</td>\n",
       "      <td>7</td>\n",
       "      <td>2</td>\n",
       "      <td>5</td>\n",
       "      <td>1</td>\n",
       "      <td>0</td>\n",
       "      <td>0</td>\n",
       "      <td>40</td>\n",
       "      <td>38</td>\n",
       "      <td>...</td>\n",
       "      <td>0</td>\n",
       "      <td>0</td>\n",
       "      <td>1</td>\n",
       "      <td>0</td>\n",
       "      <td>0</td>\n",
       "      <td>0</td>\n",
       "      <td>0</td>\n",
       "      <td>0</td>\n",
       "      <td>0</td>\n",
       "      <td>0</td>\n",
       "    </tr>\n",
       "    <tr>\n",
       "      <th>4</th>\n",
       "      <td>28</td>\n",
       "      <td>338409</td>\n",
       "      <td>13</td>\n",
       "      <td>2</td>\n",
       "      <td>10</td>\n",
       "      <td>0</td>\n",
       "      <td>0</td>\n",
       "      <td>0</td>\n",
       "      <td>40</td>\n",
       "      <td>4</td>\n",
       "      <td>...</td>\n",
       "      <td>0</td>\n",
       "      <td>0</td>\n",
       "      <td>1</td>\n",
       "      <td>0</td>\n",
       "      <td>0</td>\n",
       "      <td>0</td>\n",
       "      <td>0</td>\n",
       "      <td>0</td>\n",
       "      <td>0</td>\n",
       "      <td>1</td>\n",
       "    </tr>\n",
       "  </tbody>\n",
       "</table>\n",
       "<p>5 rows × 23 columns</p>\n",
       "</div>"
      ],
      "text/plain": [
       "   age  fnlwgt  education-num  marital-status  occupation  sex  capital-gain  \\\n",
       "0   39   77516             13               4           0    1          2174   \n",
       "1   50   83311             13               2           3    1             0   \n",
       "2   38  215646              9               0           5    1             0   \n",
       "3   53  234721              7               2           5    1             0   \n",
       "4   28  338409             13               2          10    0             0   \n",
       "\n",
       "   capital-loss  hours-per-week  native-country  ...  workclass_other  \\\n",
       "0             0              40              38  ...                1   \n",
       "1             0              13              38  ...                0   \n",
       "2             0              40              38  ...                0   \n",
       "3             0              40              38  ...                0   \n",
       "4             0              40               4  ...                0   \n",
       "\n",
       "   race_ Asian-Pac-Islander  race_ Black  race_ Other  race_ White  \\\n",
       "0                         0            0            0            1   \n",
       "1                         0            0            0            1   \n",
       "2                         0            0            0            1   \n",
       "3                         0            1            0            0   \n",
       "4                         0            1            0            0   \n",
       "\n",
       "   relationship_ Not-in-family  relationship_ Other-relative  \\\n",
       "0                            1                             0   \n",
       "1                            0                             0   \n",
       "2                            1                             0   \n",
       "3                            0                             0   \n",
       "4                            0                             0   \n",
       "\n",
       "   relationship_ Own-child  relationship_ Unmarried  relationship_ Wife  \n",
       "0                        0                        0                   0  \n",
       "1                        0                        0                   0  \n",
       "2                        0                        0                   0  \n",
       "3                        0                        0                   0  \n",
       "4                        0                        0                   1  \n",
       "\n",
       "[5 rows x 23 columns]"
      ]
     },
     "execution_count": 618,
     "metadata": {},
     "output_type": "execute_result"
    }
   ],
   "source": [
    "encoder = LabelEncoder()\n",
    "\n",
    "def preprocess(df):\n",
    "    # Remove duplicates\n",
    "    df = df.drop_duplicates()\n",
    "\n",
    "    # Label encoding for categorical features\n",
    "    df['salary'] = encoder.fit_transform(df['salary'])\n",
    "    df['sex'] = encoder.fit_transform(df['sex'])\n",
    "    df['native-country'] = encoder.fit_transform(df['native-country'])\n",
    "    df['marital-status'] = encoder.fit_transform(df['marital-status'])\n",
    "\n",
    "    # Cleaning and transforming workclass\n",
    "    df['workclass'] = df['workclass'].str.strip()\n",
    "    allowed_workclass = ['Private', 'Self-emp-not-inc', 'Local-gov']\n",
    "    df['workclass'] = df['workclass'].apply(lambda val: val if val in allowed_workclass else 'other')\n",
    "\n",
    "    # One-hot encoding for workclass, race, and relationship\n",
    "    df = pd.get_dummies(df, columns=['workclass'], drop_first=True, dtype=int)\n",
    "    df = pd.get_dummies(df, columns=['race'], drop_first=True, dtype=int)\n",
    "    df = pd.get_dummies(df, columns=['relationship'], drop_first=True, dtype=int)\n",
    "\n",
    "    # Cleaning and encoding occupation\n",
    "    df['occupation'] = df['occupation'].str.strip()\n",
    "    mode_value = df['occupation'].mode()[0]\n",
    "    df['occupation'] = df['occupation'].replace('?', mode_value)\n",
    "    df['occupation'] = encoder.fit_transform(df['occupation'])\n",
    "\n",
    "    return df\n",
    "\n",
    "salary_df = preprocess(salary_df)\n",
    "\n",
    "salary_df.head()"
   ]
  },
  {
   "cell_type": "code",
   "execution_count": 619,
   "metadata": {},
   "outputs": [],
   "source": [
    "salary_df = salary_df.drop(['fnlwgt'], axis=1)"
   ]
  },
  {
   "cell_type": "markdown",
   "metadata": {},
   "source": [
    "#### Бейзлайн"
   ]
  },
  {
   "cell_type": "code",
   "execution_count": null,
   "metadata": {},
   "outputs": [
    {
     "name": "stdout",
     "output_type": "stream",
     "text": [
      "Accuracy: 0.842040565457898\n",
      "Precision: 0.6866359447004609\n",
      "Recall: 0.6335034013605442\n",
      "F1-score: 0.659000442282176\n"
     ]
    }
   ],
   "source": [
    "X = salary_df.drop('salary' , axis = 1).values\n",
    "y = salary_df['salary'].values\n",
    "X_train, X_test, y_train, y_test = train_test_split(X, y, test_size=0.3 , stratify=y, random_state=42)\n",
    "\n",
    "knn_class = KNeighborsClassifier(n_neighbors=5)\n",
    "knn_class.fit(X_train, y_train)\n",
    "\n",
    "y_get = knn_class.predict(X_test)\n",
    "print(f\"Accuracy: {accuracy_score(y_test, y_get)}\")\n",
    "print(f\"Precision: {precision_score(y_test, y_get)}\")\n",
    "print(f\"Recall: {recall_score(y_test, y_get)}\")\n",
    "print(f\"F1-score: {f1_score(y_test, y_get)}\")"
   ]
  },
  {
   "cell_type": "markdown",
   "metadata": {},
   "source": [
    "#### Улучшенный бейзлайн"
   ]
  },
  {
   "cell_type": "markdown",
   "metadata": {},
   "source": [
    "- Создадим новый признак `net_capital_flow` из связанных `capital-gain` и `capital-loss`.\n",
    "- Применим метод `PowerTransformer` для нормализации столбца `age`, что уменьшит влияние выбросов и приведет данные к более симметричному распределению.\n",
    "- Используем метод `SMOTEENN` для синтеза новых данных и удаления шумовых. Это улучшит модель, обучая ее на более сбалансированных данных.\n",
    "- Изменим количество соседей с 5 на 8."
   ]
  },
  {
   "cell_type": "code",
   "execution_count": 205,
   "metadata": {},
   "outputs": [],
   "source": [
    "salary_df['net_capital_flow'] = salary_df['capital-gain'] - salary_df['capital-loss']\n",
    "\n",
    "pt = PowerTransformer(method='yeo-johnson')\n",
    "salary_df['age_normalized'] = pt.fit_transform(salary_df[['age']])\n",
    "\n",
    "salary_df = salary_df.drop(['capital-gain', 'capital-loss', 'age'], axis=1)\n",
    "\n",
    "X = salary_df.drop('salary' , axis = 1).values\n",
    "y = salary_df['salary'].values\n",
    "X_train, X_test, y_train, y_test = train_test_split(X, y, test_size=0.3 , stratify=y, random_state=42)\n",
    "\n",
    "from imblearn.combine import SMOTEENN\n",
    "smote_enn = SMOTEENN(random_state=3)\n",
    "X_resampled_enn, y_resampled_enn = smote_enn.fit_resample(X, y)\n",
    "\n",
    "X_train_enn, X_test_enn, y_train_enn, y_test_enn = train_test_split(X_resampled_enn, y_resampled_enn, test_size=0.3, random_state=42)\n",
    "\n",
    "knn_class = KNeighborsClassifier(n_neighbors=8)\n",
    "knn_class.fit(X_train_enn, y_train_enn)"
   ]
  },
  {
   "cell_type": "code",
   "execution_count": 210,
   "metadata": {},
   "outputs": [
    {
     "data": {
      "image/png": "[encoded data removed]",
      "text/plain": [
       "<Figure size 800x800 with 1 Axes>"
      ]
     },
     "metadata": {},
     "output_type": "display_data"
    }
   ],
   "source": [
    "plt.figure(figsize=(8, 8))\n",
    "sns.histplot(salary_df['age_normalized'], kde=True, color='blue', alpha=0.5)\n",
    "plt.title(\"Distribution of age (after Power Transformation)\")\n",
    "plt.show()"
   ]
  },
  {
   "cell_type": "code",
   "execution_count": 208,
   "metadata": {},
   "outputs": [
    {
     "name": "stdout",
     "output_type": "stream",
     "text": [
      "Accuracy: 0.8191968858840402\n",
      "Precision: 0.5805212620027435\n",
      "Recall: 0.8996598639455783\n",
      "F1-score: 0.7056861764215441\n"
     ]
    }
   ],
   "source": [
    "y_get = knn_class.predict(X_test)\n",
    "print(f\"Accuracy: {accuracy_score(y_test, y_get)}\")\n",
    "print(f\"Precision: {precision_score(y_test, y_get)}\")\n",
    "print(f\"Recall: {recall_score(y_test, y_get)}\")\n",
    "print(f\"F1-score: {f1_score(y_test, y_get)}\")"
   ]
  },
  {
   "cell_type": "markdown",
   "metadata": {},
   "source": [
    "#### Самостоятельная имплементация"
   ]
  },
  {
   "cell_type": "code",
   "execution_count": 214,
   "metadata": {},
   "outputs": [
    {
     "name": "stdout",
     "output_type": "stream",
     "text": [
      "Accuracy: 0.8155091169842246\n",
      "Precision: 0.5731351207857712\n",
      "Recall: 0.9179421768707483\n",
      "F1-score: 0.7056708612518385\n"
     ]
    }
   ],
   "source": [
    "def euclidean_distance(x1, x2):\n",
    "    return np.sqrt(np.sum((x1 - x2) ** 2))\n",
    "\n",
    "class KNN:\n",
    "    def __init__(self, k=3):\n",
    "        self.k = k\n",
    "\n",
    "    # Метод для расчета евклидова расстояния\n",
    "    def euclidean_distance(self, point1, point2):\n",
    "        return np.sqrt(np.sum((point1 - point2) ** 2))\n",
    "\n",
    "    # Метод для подбора ближайших соседей\n",
    "    def get_neighbors(self, X_train, X_test_point):\n",
    "        distances = np.array([self.euclidean_distance(X_test_point, train_point) for train_point in X_train])\n",
    "        sorted_idx = np.argsort(distances)\n",
    "        return sorted_idx[:self.k]\n",
    "\n",
    "    # Метод для обучения модели (не требуется для KNN, так как это ленивый алгоритм)\n",
    "    def fit(self, X_train, y_train):\n",
    "        self.X_train = X_train\n",
    "        self.y_train = y_train\n",
    "\n",
    "    # Метод для предсказания метки для одного тестового примера\n",
    "    def predict_one(self, X_test_point):\n",
    "        neighbors_idx = self.get_neighbors(self.X_train, X_test_point)\n",
    "        neighbors_labels = self.y_train[neighbors_idx]\n",
    "        most_common = Counter(neighbors_labels).most_common(1)\n",
    "        return most_common[0][0]\n",
    "\n",
    "    # Метод для предсказания всех тестовых данных\n",
    "    def predict(self, X_test):\n",
    "        return np.array([self.predict_one(test_point) for test_point in X_test])\n",
    "\n",
    "\n",
    "knn = KNN(k=8)\n",
    "knn.fit(X_train_enn, y_train_enn)\n",
    "\n",
    "y_pred = knn.predict(X_test)\n",
    "\n",
    "print(f\"Accuracy: {accuracy_score(y_test, y_pred)}\")\n",
    "print(f\"Precision: {precision_score(y_test, y_pred)}\")\n",
    "print(f\"Recall: {recall_score(y_test, y_pred)}\")\n",
    "print(f\"F1-score: {f1_score(y_test, y_pred)}\")"
   ]
  },
  {
   "cell_type": "markdown",
   "metadata": {},
   "source": [
    "### Задача регрессии"
   ]
  },
  {
   "cell_type": "markdown",
   "metadata": {},
   "source": [
    "#### Предобработка датасета `energy.csv`"
   ]
  },
  {
   "cell_type": "code",
   "execution_count": 659,
   "metadata": {},
   "outputs": [
    {
     "data": {
      "text/html": [
       "<div>\n",
       "<style scoped>\n",
       "    .dataframe tbody tr th:only-of-type {\n",
       "        vertical-align: middle;\n",
       "    }\n",
       "\n",
       "    .dataframe tbody tr th {\n",
       "        vertical-align: top;\n",
       "    }\n",
       "\n",
       "    .dataframe thead th {\n",
       "        text-align: right;\n",
       "    }\n",
       "</style>\n",
       "<table border=\"1\" class=\"dataframe\">\n",
       "  <thead>\n",
       "    <tr style=\"text-align: right;\">\n",
       "      <th></th>\n",
       "      <th>X1</th>\n",
       "      <th>X2</th>\n",
       "      <th>X3</th>\n",
       "      <th>X4</th>\n",
       "      <th>X5</th>\n",
       "      <th>X6</th>\n",
       "      <th>X7</th>\n",
       "      <th>X8</th>\n",
       "      <th>Y1</th>\n",
       "      <th>Y2</th>\n",
       "    </tr>\n",
       "  </thead>\n",
       "  <tbody>\n",
       "    <tr>\n",
       "      <th>0</th>\n",
       "      <td>0.98</td>\n",
       "      <td>514.5</td>\n",
       "      <td>294.0</td>\n",
       "      <td>110.25</td>\n",
       "      <td>7.0</td>\n",
       "      <td>2</td>\n",
       "      <td>0.0</td>\n",
       "      <td>0</td>\n",
       "      <td>15.55</td>\n",
       "      <td>21.33</td>\n",
       "    </tr>\n",
       "    <tr>\n",
       "      <th>1</th>\n",
       "      <td>0.98</td>\n",
       "      <td>514.5</td>\n",
       "      <td>294.0</td>\n",
       "      <td>110.25</td>\n",
       "      <td>7.0</td>\n",
       "      <td>3</td>\n",
       "      <td>0.0</td>\n",
       "      <td>0</td>\n",
       "      <td>15.55</td>\n",
       "      <td>21.33</td>\n",
       "    </tr>\n",
       "    <tr>\n",
       "      <th>2</th>\n",
       "      <td>0.98</td>\n",
       "      <td>514.5</td>\n",
       "      <td>294.0</td>\n",
       "      <td>110.25</td>\n",
       "      <td>7.0</td>\n",
       "      <td>4</td>\n",
       "      <td>0.0</td>\n",
       "      <td>0</td>\n",
       "      <td>15.55</td>\n",
       "      <td>21.33</td>\n",
       "    </tr>\n",
       "    <tr>\n",
       "      <th>3</th>\n",
       "      <td>0.98</td>\n",
       "      <td>514.5</td>\n",
       "      <td>294.0</td>\n",
       "      <td>110.25</td>\n",
       "      <td>7.0</td>\n",
       "      <td>5</td>\n",
       "      <td>0.0</td>\n",
       "      <td>0</td>\n",
       "      <td>15.55</td>\n",
       "      <td>21.33</td>\n",
       "    </tr>\n",
       "    <tr>\n",
       "      <th>4</th>\n",
       "      <td>0.90</td>\n",
       "      <td>563.5</td>\n",
       "      <td>318.5</td>\n",
       "      <td>122.50</td>\n",
       "      <td>7.0</td>\n",
       "      <td>2</td>\n",
       "      <td>0.0</td>\n",
       "      <td>0</td>\n",
       "      <td>20.84</td>\n",
       "      <td>28.28</td>\n",
       "    </tr>\n",
       "  </tbody>\n",
       "</table>\n",
       "</div>"
      ],
      "text/plain": [
       "     X1     X2     X3      X4   X5  X6   X7  X8     Y1     Y2\n",
       "0  0.98  514.5  294.0  110.25  7.0   2  0.0   0  15.55  21.33\n",
       "1  0.98  514.5  294.0  110.25  7.0   3  0.0   0  15.55  21.33\n",
       "2  0.98  514.5  294.0  110.25  7.0   4  0.0   0  15.55  21.33\n",
       "3  0.98  514.5  294.0  110.25  7.0   5  0.0   0  15.55  21.33\n",
       "4  0.90  563.5  318.5  122.50  7.0   2  0.0   0  20.84  28.28"
      ]
     },
     "execution_count": 659,
     "metadata": {},
     "output_type": "execute_result"
    }
   ],
   "source": [
    "energy_df = pd.read_csv('datasets/energy.csv')\n",
    "\n",
    "energy_df.head()"
   ]
  },
  {
   "cell_type": "markdown",
   "metadata": {},
   "source": [
    "Переименуем колонки согласно значениям, хранимым в них. Признаки и целевые переменные имеют числовой формат."
   ]
  },
  {
   "cell_type": "code",
   "execution_count": 660,
   "metadata": {},
   "outputs": [
    {
     "data": {
      "text/html": [
       "<div>\n",
       "<style scoped>\n",
       "    .dataframe tbody tr th:only-of-type {\n",
       "        vertical-align: middle;\n",
       "    }\n",
       "\n",
       "    .dataframe tbody tr th {\n",
       "        vertical-align: top;\n",
       "    }\n",
       "\n",
       "    .dataframe thead th {\n",
       "        text-align: right;\n",
       "    }\n",
       "</style>\n",
       "<table border=\"1\" class=\"dataframe\">\n",
       "  <thead>\n",
       "    <tr style=\"text-align: right;\">\n",
       "      <th></th>\n",
       "      <th>relative_compactness</th>\n",
       "      <th>surface_area</th>\n",
       "      <th>wall_area</th>\n",
       "      <th>roof_area</th>\n",
       "      <th>overall_height</th>\n",
       "      <th>orientation</th>\n",
       "      <th>glazing_area</th>\n",
       "      <th>glazing_area_distribution</th>\n",
       "      <th>heating_load</th>\n",
       "      <th>cooling_load</th>\n",
       "    </tr>\n",
       "  </thead>\n",
       "  <tbody>\n",
       "    <tr>\n",
       "      <th>0</th>\n",
       "      <td>0.98</td>\n",
       "      <td>514.5</td>\n",
       "      <td>294.0</td>\n",
       "      <td>110.25</td>\n",
       "      <td>7.0</td>\n",
       "      <td>2</td>\n",
       "      <td>0.0</td>\n",
       "      <td>0</td>\n",
       "      <td>15.55</td>\n",
       "      <td>21.33</td>\n",
       "    </tr>\n",
       "    <tr>\n",
       "      <th>1</th>\n",
       "      <td>0.98</td>\n",
       "      <td>514.5</td>\n",
       "      <td>294.0</td>\n",
       "      <td>110.25</td>\n",
       "      <td>7.0</td>\n",
       "      <td>3</td>\n",
       "      <td>0.0</td>\n",
       "      <td>0</td>\n",
       "      <td>15.55</td>\n",
       "      <td>21.33</td>\n",
       "    </tr>\n",
       "    <tr>\n",
       "      <th>2</th>\n",
       "      <td>0.98</td>\n",
       "      <td>514.5</td>\n",
       "      <td>294.0</td>\n",
       "      <td>110.25</td>\n",
       "      <td>7.0</td>\n",
       "      <td>4</td>\n",
       "      <td>0.0</td>\n",
       "      <td>0</td>\n",
       "      <td>15.55</td>\n",
       "      <td>21.33</td>\n",
       "    </tr>\n",
       "    <tr>\n",
       "      <th>3</th>\n",
       "      <td>0.98</td>\n",
       "      <td>514.5</td>\n",
       "      <td>294.0</td>\n",
       "      <td>110.25</td>\n",
       "      <td>7.0</td>\n",
       "      <td>5</td>\n",
       "      <td>0.0</td>\n",
       "      <td>0</td>\n",
       "      <td>15.55</td>\n",
       "      <td>21.33</td>\n",
       "    </tr>\n",
       "    <tr>\n",
       "      <th>4</th>\n",
       "      <td>0.90</td>\n",
       "      <td>563.5</td>\n",
       "      <td>318.5</td>\n",
       "      <td>122.50</td>\n",
       "      <td>7.0</td>\n",
       "      <td>2</td>\n",
       "      <td>0.0</td>\n",
       "      <td>0</td>\n",
       "      <td>20.84</td>\n",
       "      <td>28.28</td>\n",
       "    </tr>\n",
       "  </tbody>\n",
       "</table>\n",
       "</div>"
      ],
      "text/plain": [
       "   relative_compactness  surface_area  wall_area  roof_area  overall_height  \\\n",
       "0                  0.98         514.5      294.0     110.25             7.0   \n",
       "1                  0.98         514.5      294.0     110.25             7.0   \n",
       "2                  0.98         514.5      294.0     110.25             7.0   \n",
       "3                  0.98         514.5      294.0     110.25             7.0   \n",
       "4                  0.90         563.5      318.5     122.50             7.0   \n",
       "\n",
       "   orientation  glazing_area  glazing_area_distribution  heating_load  \\\n",
       "0            2           0.0                          0         15.55   \n",
       "1            3           0.0                          0         15.55   \n",
       "2            4           0.0                          0         15.55   \n",
       "3            5           0.0                          0         15.55   \n",
       "4            2           0.0                          0         20.84   \n",
       "\n",
       "   cooling_load  \n",
       "0         21.33  \n",
       "1         21.33  \n",
       "2         21.33  \n",
       "3         21.33  \n",
       "4         28.28  "
      ]
     },
     "execution_count": 660,
     "metadata": {},
     "output_type": "execute_result"
    }
   ],
   "source": [
    "energy_df.columns = ['relative_compactness', 'surface_area', 'wall_area', 'roof_area', 'overall_height',\n",
    "                     'orientation', 'glazing_area', 'glazing_area_distribution', 'heating_load', 'cooling_load']\n",
    "\n",
    "energy_df.head()"
   ]
  },
  {
   "cell_type": "markdown",
   "metadata": {},
   "source": [
    "В датасете отсутствуют пропуски."
   ]
  },
  {
   "cell_type": "code",
   "execution_count": 661,
   "metadata": {},
   "outputs": [
    {
     "data": {
      "text/plain": [
       "relative_compactness         0\n",
       "surface_area                 0\n",
       "wall_area                    0\n",
       "roof_area                    0\n",
       "overall_height               0\n",
       "orientation                  0\n",
       "glazing_area                 0\n",
       "glazing_area_distribution    0\n",
       "heating_load                 0\n",
       "cooling_load                 0\n",
       "dtype: int64"
      ]
     },
     "execution_count": 661,
     "metadata": {},
     "output_type": "execute_result"
    }
   ],
   "source": [
    "energy_df.isna().sum()"
   ]
  },
  {
   "cell_type": "code",
   "execution_count": 658,
   "metadata": {},
   "outputs": [
    {
     "data": {
      "image/png": "[encoded data removed]",
      "text/plain": [
       "<Figure size 1400x700 with 2 Axes>"
      ]
     },
     "metadata": {},
     "output_type": "display_data"
    }
   ],
   "source": [
    "plt.figure(figsize = (14,7))\n",
    "sns.heatmap(energy_df.corr() , annot=True , cmap = 'Blues')\n",
    "plt.show()"
   ]
  },
  {
   "cell_type": "markdown",
   "metadata": {},
   "source": [
    "#### Бейзлайн"
   ]
  },
  {
   "cell_type": "code",
   "execution_count": 640,
   "metadata": {},
   "outputs": [
    {
     "name": "stdout",
     "output_type": "stream",
     "text": [
      "Mean Absolute Error (MAE): 1.6515800865800876\n",
      "R-squared (R^2): 0.9464525135915605\n"
     ]
    }
   ],
   "source": [
    "X = energy_df.drop(['heating_load','cooling_load'], axis=1)\n",
    "y = energy_df[['heating_load','cooling_load']]\n",
    "\n",
    "X_train, X_test, y_train, y_test = train_test_split(X, y, test_size = 0.3, random_state = 42)\n",
    "\n",
    "knn_reg = KNeighborsRegressor(n_neighbors=5)\n",
    "knn_reg.fit(X_train, y_train)\n",
    "\n",
    "y_get = knn_reg.predict(X_test)\n",
    "\n",
    "print(f\"Mean Absolute Error (MAE): {mean_absolute_error(y_test, y_get)}\")\n",
    "print(f\"R-squared (R^2): {r2_score(y_test, y_get)}\")"
   ]
  },
  {
   "cell_type": "markdown",
   "metadata": {},
   "source": [
    "#### Улучшенный бейзлайн"
   ]
  },
  {
   "cell_type": "markdown",
   "metadata": {},
   "source": [
    "- Оптимизируем гиперпараметры."
   ]
  },
  {
   "cell_type": "code",
   "execution_count": 653,
   "metadata": {},
   "outputs": [
    {
     "name": "stdout",
     "output_type": "stream",
     "text": [
      "Best parameters: {'metric': 'manhattan', 'n_neighbors': 3, 'weights': 'uniform'}\n",
      "Mean Absolute Error (MAE): 1.5880375180375197\n",
      "R-squared (R^2): 0.9561152647251427\n"
     ]
    }
   ],
   "source": [
    "X = energy_df.drop(['heating_load','cooling_load'], axis=1)\n",
    "y = energy_df[['heating_load','cooling_load']]\n",
    "\n",
    "X_train, X_test, y_train, y_test = train_test_split(X, y, test_size = 0.3, random_state = 42)\n",
    "\n",
    "param_grid = {\n",
    "    'n_neighbors': [3, 5, 7, 9, 11],  # Количество соседей\n",
    "    'weights': ['uniform', 'distance'],  # Веса\n",
    "    'metric': ['euclidean', 'manhattan']  # Метрика расстояния\n",
    "}\n",
    "\n",
    "knn = KNeighborsRegressor()\n",
    "grid_search = GridSearchCV(knn, param_grid, cv=5, scoring='neg_mean_absolute_error')\n",
    "grid_search.fit(X_train, y_train)\n",
    "\n",
    "print(\"Best parameters:\", grid_search.best_params_)\n",
    "\n",
    "best_knn = grid_search.best_estimator_\n",
    "\n",
    "y_get = best_knn.predict(X_test)\n",
    "\n",
    "print(f\"Mean Absolute Error (MAE): {mean_absolute_error(y_test, y_get)}\")\n",
    "print(f\"R-squared (R^2): {r2_score(y_test, y_get)}\")"
   ]
  },
  {
   "cell_type": "markdown",
   "metadata": {},
   "source": [
    "#### Самостоятельная имплементация"
   ]
  },
  {
   "cell_type": "code",
   "execution_count": 657,
   "metadata": {},
   "outputs": [
    {
     "name": "stdout",
     "output_type": "stream",
     "text": [
      "Best parameters: {'n_neighbors': 3, 'weights': 'uniform', 'metric': 'manhattan'}\n",
      "Mean Absolute Error (MAE): 1.5606854256854266\n",
      "R-squared (R^2): 0.9569268834405515\n"
     ]
    }
   ],
   "source": [
    "# Функция для вычисления расстояний\n",
    "def compute_distances(X_train, X_test, metric='euclidean'):\n",
    "    if metric == 'euclidean':\n",
    "        return distance.cdist(X_test, X_train, 'euclidean')\n",
    "    elif metric == 'manhattan':\n",
    "        return distance.cdist(X_test, X_train, 'cityblock')\n",
    "    else:\n",
    "        raise ValueError(\"Unsupported metric. Use 'euclidean' or 'manhattan'.\")\n",
    "\n",
    "# Самописный алгоритм KNN для регрессии\n",
    "class MyKNNRegressor:\n",
    "    def __init__(self, n_neighbors=5, weights='uniform', metric='euclidean'):\n",
    "        self.n_neighbors = n_neighbors\n",
    "        self.weights = weights\n",
    "        self.metric = metric\n",
    "\n",
    "    def fit(self, X, y):\n",
    "        self.X_train = np.array(X)\n",
    "        self.y_train = np.array(y)\n",
    "\n",
    "    def predict(self, X):\n",
    "        X_test = np.array(X)\n",
    "        distances = compute_distances(self.X_train, X_test, metric=self.metric)\n",
    "        predictions = []\n",
    "\n",
    "        for dist in distances:\n",
    "            neighbors_idx = np.argsort(dist)[:self.n_neighbors]  # Индексы ближайших соседей\n",
    "            neighbors_values = self.y_train[neighbors_idx]\n",
    "\n",
    "            if self.weights == 'uniform':\n",
    "                predictions.append(np.mean(neighbors_values, axis=0))\n",
    "            elif self.weights == 'distance':\n",
    "                inv_distances = 1 / (dist[neighbors_idx] + 1e-9)  # Избегаем деления на 0\n",
    "                weighted_avg = np.average(neighbors_values, axis=0, weights=inv_distances)\n",
    "                predictions.append(weighted_avg)\n",
    "            else:\n",
    "                raise ValueError(\"Unsupported weights. Use 'uniform' or 'distance'.\")\n",
    "        return np.array(predictions)\n",
    "\n",
    "# Поиск оптимальных гиперпараметров\n",
    "def grid_search_knn(X_train, y_train, X_test, y_test, param_grid):\n",
    "    best_params = None\n",
    "    best_score = float('inf')\n",
    "\n",
    "    for n_neighbors in param_grid['n_neighbors']:\n",
    "        for weights in param_grid['weights']:\n",
    "            for metric in param_grid['metric']:\n",
    "                knn = MyKNNRegressor(n_neighbors=n_neighbors, weights=weights, metric=metric)\n",
    "                knn.fit(X_train, y_train)\n",
    "                y_pred = knn.predict(X_test)\n",
    "                mae = mean_absolute_error(y_test, y_pred)\n",
    "                if mae < best_score:\n",
    "                    best_score = mae\n",
    "                    best_params = {'n_neighbors': n_neighbors, 'weights': weights, 'metric': metric}\n",
    "\n",
    "    return best_params, best_score\n",
    "\n",
    "# Данные\n",
    "X = energy_df.drop(['heating_load', 'cooling_load'], axis=1).values\n",
    "y = energy_df[['heating_load', 'cooling_load']].values\n",
    "\n",
    "# Разделение данных\n",
    "X_train, X_test, y_train, y_test = train_test_split(X, y, test_size=0.3, random_state=42)\n",
    "\n",
    "# Сетка гиперпараметров\n",
    "param_grid = {\n",
    "    'n_neighbors': [3, 5, 7, 9, 11],\n",
    "    'weights': ['uniform', 'distance'],\n",
    "    'metric': ['euclidean', 'manhattan']\n",
    "}\n",
    "\n",
    "# Поиск лучших параметров\n",
    "best_params, best_score = grid_search_knn(X_train, y_train, X_test, y_test, param_grid)\n",
    "print(\"Best parameters:\", best_params)\n",
    "\n",
    "\n",
    "# Применение лучшей модели\n",
    "best_knn = MyKNNRegressor(**best_params)\n",
    "best_knn.fit(X_train, y_train)\n",
    "y_pred = best_knn.predict(X_test)\n",
    "\n",
    "# Оценка модели\n",
    "print(f\"Mean Absolute Error (MAE): {mean_absolute_error(y_test, y_pred)}\")\n",
    "print(f\"R-squared (R^2): {r2_score(y_test, y_pred)}\")\n"
   ]
  },
  {
   "cell_type": "markdown",
   "metadata": {},
   "source": [
    "# ЛР 2 (Линейные модели)"
   ]
  },
  {
   "cell_type": "markdown",
   "metadata": {},
   "source": [
    "### Задача классификации"
   ]
  },
  {
   "cell_type": "markdown",
   "metadata": {},
   "source": [
    "#### Бейзлайн"
   ]
  },
  {
   "cell_type": "code",
   "execution_count": 311,
   "metadata": {},
   "outputs": [
    {
     "name": "stdout",
     "output_type": "stream",
     "text": [
      "Accuracy: 0.7946117598852694\n",
      "Precision: 0.6423297785069729\n",
      "Recall: 0.33290816326530615\n",
      "F1-score: 0.4385326239148698\n"
     ]
    }
   ],
   "source": [
    "X = salary_df.drop('salary', axis=1).values\n",
    "y = salary_df['salary'].values\n",
    "\n",
    "# Разделение на обучающую и тестовую выборку\n",
    "X_train, X_test, y_train, y_test = train_test_split(X, y, test_size=0.3, stratify=y, random_state=42)\n",
    "\n",
    "# Обучение модели логистической регрессии\n",
    "log_reg = LogisticRegression(random_state=42)\n",
    "log_reg.fit(X_train, y_train)\n",
    "\n",
    "# Предсказание\n",
    "y_get = log_reg.predict(X_test)\n",
    "\n",
    "# Оценка модели\n",
    "accuracy = accuracy_score(y_test, y_get)\n",
    "precision = precision_score(y_test, y_get)\n",
    "recall = recall_score(y_test, y_get)\n",
    "f1 = f1_score(y_test, y_get)\n",
    "\n",
    "print(f\"Accuracy: {accuracy}\")\n",
    "print(f\"Precision: {precision}\")\n",
    "print(f\"Recall: {recall}\")\n",
    "print(f\"F1-score: {f1}\")"
   ]
  },
  {
   "cell_type": "markdown",
   "metadata": {},
   "source": [
    "#### Улучшенный бейзлайн"
   ]
  },
  {
   "cell_type": "markdown",
   "metadata": {},
   "source": [
    "- Создадим новый признак `net_capital_flow` из связанных `capital-gain` и `capital-loss`.\n",
    "- Применим метод `PowerTransformer` для нормализации столбца `age`, что уменьшит влияние выбросов и приведет данные к более симметричному распределению.\n",
    "- Используем метод `SMOTEENN` для синтеза новых данных и удаления шумовых. Это улучшит модель, обучая ее на более сбалансированных данных."
   ]
  },
  {
   "cell_type": "code",
   "execution_count": 375,
   "metadata": {},
   "outputs": [
    {
     "name": "stdout",
     "output_type": "stream",
     "text": [
      "Accuracy: 0.7045687359147715\n",
      "Precision: 0.43935248518011855\n",
      "Recall: 0.8193027210884354\n",
      "F1-score: 0.5719798159691303\n"
     ]
    }
   ],
   "source": [
    "salary_df['net_capital_flow'] = salary_df['capital-gain'] - salary_df['capital-loss']\n",
    "\n",
    "pt = PowerTransformer(method='yeo-johnson')\n",
    "salary_df['age_normalized'] = pt.fit_transform(salary_df[['age']])\n",
    "\n",
    "salary_df = salary_df.drop(['capital-gain', 'capital-loss', 'age'], axis=1)\n",
    "\n",
    "X = salary_df.drop('salary' , axis = 1).values\n",
    "y = salary_df['salary'].values\n",
    "X_train, X_test, y_train, y_test = train_test_split(X, y, test_size=0.3 , stratify=y, random_state=42)\n",
    "\n",
    "from imblearn.combine import SMOTEENN\n",
    "smote_enn = SMOTEENN(random_state=3)\n",
    "X_resampled_enn, y_resampled_enn = smote_enn.fit_resample(X, y)\n",
    "\n",
    "X_train_enn, X_test_enn, y_train_enn, y_test_enn = train_test_split(X_resampled_enn, y_resampled_enn, test_size=0.3, random_state=42)\n",
    "\n",
    "log_reg = LogisticRegression(random_state=42)\n",
    "log_reg.fit(X_train_enn, y_train_enn)\n",
    "y_get = log_reg.predict(X_test)\n",
    "\n",
    "print(f\"Accuracy: {accuracy_score(y_test, y_get)}\")\n",
    "print(f\"Precision: {precision_score(y_test, y_get)}\")\n",
    "print(f\"Recall: {recall_score(y_test, y_get)}\")\n",
    "print(f\"F1-score: {f1_score(y_test, y_get)}\")"
   ]
  },
  {
   "cell_type": "markdown",
   "metadata": {},
   "source": [
    "#### Самостоятельная имплементация"
   ]
  },
  {
   "cell_type": "code",
   "execution_count": null,
   "metadata": {},
   "outputs": [
    {
     "name": "stdout",
     "output_type": "stream",
     "text": [
      "Accuracy: 0.7402171686129891\n",
      "Precision: 0.4699934768427919\n",
      "Recall: 0.6126700680272109\n",
      "F1-score: 0.5319306016980435\n"
     ]
    }
   ],
   "source": [
    "class LogisticRegressionManual:\n",
    "    def __init__(self, learning_rate=0.01, iterations=1000):\n",
    "        self.learning_rate = learning_rate\n",
    "        self.iterations = iterations\n",
    "        self.weights = None\n",
    "        self.bias = None\n",
    "\n",
    "    def sigmoid(self, z):\n",
    "        return 1 / (1 + np.exp(-z))\n",
    "\n",
    "    def fit(self, X, y):\n",
    "        m, n = X.shape\n",
    "        self.weights = np.zeros(n)\n",
    "        self.bias = 0\n",
    "\n",
    "        for i in range(self.iterations):\n",
    "            # Прогноз\n",
    "            linear_model = np.dot(X, self.weights) + self.bias\n",
    "            y_pred = self.sigmoid(linear_model)\n",
    "\n",
    "            # Вычисление градиентов\n",
    "            dw = (1/m) * np.dot(X.T, (y_pred - y))\n",
    "            db = (1/m) * np.sum(y_pred - y)\n",
    "\n",
    "            # Обновление параметров\n",
    "            self.weights -= self.learning_rate * dw\n",
    "            self.bias -= self.learning_rate * db\n",
    "\n",
    "    def predict(self, X):\n",
    "        linear_model = np.dot(X, self.weights) + self.bias\n",
    "        y_pred = self.sigmoid(linear_model)\n",
    "        return [1 if i > 0.5 else 0 for i in y_pred]\n",
    "\n",
    "X = salary_df.drop('salary', axis=1).values\n",
    "y = salary_df['salary'].values\n",
    "\n",
    "# Разделение на обучающую и тестовую выборки\n",
    "X_train, X_test, y_train, y_test = train_test_split(X, y, test_size=0.3, stratify=y, random_state=42)\n",
    "from imblearn.combine import SMOTEENN\n",
    "smote_enn = SMOTEENN(random_state=3)\n",
    "X_resampled_enn, y_resampled_enn = smote_enn.fit_resample(X, y)\n",
    "\n",
    "model = LogisticRegressionManual(learning_rate=0.01, iterations=1000)\n",
    "model.fit(X_resampled_enn, y_resampled_enn)\n",
    "\n",
    "# Прогнозирование на тестовых данных\n",
    "y_pred = model.predict(X_test)\n",
    "\n",
    "# Оценка модели\n",
    "print(f\"Accuracy: {accuracy_score(y_test, y_pred)}\")\n",
    "print(f\"Precision: {precision_score(y_test, y_pred)}\")\n",
    "print(f\"Recall: {recall_score(y_test, y_pred)}\")\n",
    "print(f\"F1-score: {f1_score(y_test, y_pred)}\")"
   ]
  },
  {
   "cell_type": "markdown",
   "metadata": {},
   "source": [
    "### Задача регрессии"
   ]
  },
  {
   "cell_type": "markdown",
   "metadata": {},
   "source": [
    "#### Бейзлайн"
   ]
  },
  {
   "cell_type": "code",
   "execution_count": 665,
   "metadata": {},
   "outputs": [
    {
     "name": "stdout",
     "output_type": "stream",
     "text": [
      "Mean Absolute Error (MAE): 2.2066226634811703\n",
      "R-squared (R^2): 0.8994149873458703\n"
     ]
    }
   ],
   "source": [
    "X = energy_df.drop(['heating_load', 'cooling_load'], axis=1)\n",
    "y = energy_df[['heating_load', 'cooling_load']]\n",
    "\n",
    "X_train, X_test, y_train, y_test = train_test_split(X, y, test_size=0.3, random_state=42)\n",
    "\n",
    "# Линейная регрессия\n",
    "lin_reg = LinearRegression()\n",
    "lin_reg.fit(X_train, y_train)\n",
    "\n",
    "# Предсказание\n",
    "y_pred = lin_reg.predict(X_test)\n",
    "\n",
    "# Оценка модели\n",
    "print(f\"Mean Absolute Error (MAE): {mean_absolute_error(y_test, y_pred)}\")\n",
    "print(f\"R-squared (R^2): {r2_score(y_test, y_pred)}\")"
   ]
  },
  {
   "cell_type": "markdown",
   "metadata": {},
   "source": [
    "#### Улучшенный бейзлайн"
   ]
  },
  {
   "cell_type": "markdown",
   "metadata": {},
   "source": [
    "- Нормализуем данные с помощью `StandardScaller`\n",
    "- Добавим полиномиальные признаки для улучшения модели\n",
    "- Подберем оптимальные гиперпараметры\n",
    "- Используем регуляризацию `Ridge`"
   ]
  },
  {
   "cell_type": "code",
   "execution_count": 668,
   "metadata": {},
   "outputs": [
    {
     "name": "stdout",
     "output_type": "stream",
     "text": [
      "Best parameters: {'alpha': 0.01, 'fit_intercept': False}\n",
      "Mean Absolute Error (MAE): 1.2047492592491433\n",
      "R-squared (R^2): 0.9723122966407316\n"
     ]
    }
   ],
   "source": [
    "# Разделение данных\n",
    "X = energy_df.drop(['heating_load', 'cooling_load'], axis=1)\n",
    "y = energy_df[['heating_load', 'cooling_load']]\n",
    "\n",
    "# Разделение на обучающую и тестовую выборки\n",
    "X_train, X_test, y_train, y_test = train_test_split(X, y, test_size=0.3, random_state=42)\n",
    "\n",
    "# Нормализация данных\n",
    "scaler = StandardScaler()\n",
    "X_train_scaled = scaler.fit_transform(X_train)\n",
    "X_test_scaled = scaler.transform(X_test)\n",
    "\n",
    "# Добавление полиномиальных признаков для улучшения модели\n",
    "poly = PolynomialFeatures(degree=2, include_bias=False)  # Степень 2\n",
    "X_train_poly = poly.fit_transform(X_train_scaled)\n",
    "X_test_poly = poly.transform(X_test_scaled)\n",
    "\n",
    "# Линейная регрессия с L2 регуляризацией (Ridge)\n",
    "param_grid = {\n",
    "    'alpha': [0.01, 0.1, 1, 10, 100],  # Регуляризационный параметр\n",
    "    'fit_intercept': [True, False]  # Включение или исключение свободного члена\n",
    "}\n",
    "\n",
    "ridge_reg = Ridge()\n",
    "grid_search = GridSearchCV(ridge_reg, param_grid, cv=5, scoring='neg_mean_absolute_error')\n",
    "grid_search.fit(X_train_poly, y_train)\n",
    "\n",
    "print(\"Best parameters:\", grid_search.best_params_)\n",
    "\n",
    "# Получаем лучшую модель\n",
    "best_ridge_reg = grid_search.best_estimator_\n",
    "\n",
    "# Предсказания\n",
    "y_pred = best_ridge_reg.predict(X_test_poly)\n",
    "\n",
    "# Оценка модели\n",
    "print(f\"Mean Absolute Error (MAE): {mean_absolute_error(y_test, y_pred)}\")\n",
    "print(f\"R-squared (R^2): {r2_score(y_test, y_pred)}\")\n"
   ]
  },
  {
   "cell_type": "markdown",
   "metadata": {},
   "source": [
    "#### Самостоятельная имплементация"
   ]
  },
  {
   "cell_type": "code",
   "execution_count": 671,
   "metadata": {},
   "outputs": [
    {
     "name": "stdout",
     "output_type": "stream",
     "text": [
      "Best parameters: {'alpha': 0.01, 'fit_intercept': False}\n",
      "Mean Absolute Error (MAE): 3.928335746276144\n",
      "R-squared (R^2): 0.6715282956733065\n"
     ]
    }
   ],
   "source": [
    "# Реализация линейной регрессии с L2 регуляризацией (Ridge)\n",
    "class LinearRegressionWithRidge:\n",
    "    def __init__(self, alpha=1.0, fit_intercept=True):\n",
    "        self.alpha = alpha\n",
    "        self.fit_intercept = fit_intercept\n",
    "        self.coef_ = None\n",
    "        self.intercept_ = None\n",
    "\n",
    "    def fit(self, X, y):\n",
    "        # Добавляем столбец для свободного члена (если fit_intercept=True)\n",
    "        if self.fit_intercept:\n",
    "            X = np.c_[np.ones(X.shape[0]), X]\n",
    "        \n",
    "        # Регуляризация (Ridge) — решение задачи минимизации потерь с добавлением L2 нормы\n",
    "        # Формула для решения: (X.T * X + alpha * I)^(-1) * X.T * y\n",
    "        # Где I - единичная матрица, alpha - параметр регуляризации\n",
    "        XTX = np.dot(X.T, X) + self.alpha * np.eye(X.shape[1])\n",
    "        XTy = np.dot(X.T, y)\n",
    "        self.coef_ = np.linalg.solve(XTX, XTy)\n",
    "        \n",
    "        if self.fit_intercept:\n",
    "            self.intercept_ = self.coef_[0]\n",
    "            self.coef_ = self.coef_[1:]\n",
    "        else:\n",
    "            self.intercept_ = 0\n",
    "\n",
    "    def predict(self, X):\n",
    "        # Если есть свободный член\n",
    "        if self.fit_intercept:\n",
    "            return np.dot(X, self.coef_) + self.intercept_\n",
    "        else:\n",
    "            return np.dot(X, self.coef_)\n",
    "\n",
    "# Реализация кросс-валидации для подбора гиперпараметров\n",
    "def cross_validate(model, X, y, param_grid, cv=5):\n",
    "    best_score = float('inf')\n",
    "    best_params = None\n",
    "    best_model = None\n",
    "    \n",
    "    # Перебор всех параметров из grid\n",
    "    for alpha in param_grid['alpha']:\n",
    "        for fit_intercept in param_grid['fit_intercept']:\n",
    "            # Создаем модель с текущими параметрами\n",
    "            model.alpha = alpha\n",
    "            model.fit_intercept = fit_intercept\n",
    "            \n",
    "            # Кросс-валидация\n",
    "            kf = KFold(n_splits=cv, shuffle=True, random_state=42)\n",
    "            scores = []\n",
    "            for train_index, val_index in kf.split(X):\n",
    "                X_train, X_val = X[train_index], X[val_index]\n",
    "                y_train, y_val = y[train_index], y[val_index]\n",
    "                \n",
    "                model.fit(X_train, y_train)\n",
    "                y_pred = model.predict(X_val)\n",
    "                score = mean_absolute_error(y_val, y_pred)\n",
    "                scores.append(score)\n",
    "            \n",
    "            avg_score = np.mean(scores)\n",
    "            if avg_score < best_score:\n",
    "                best_score = avg_score\n",
    "                best_params = {'alpha': alpha, 'fit_intercept': fit_intercept}\n",
    "                best_model = model\n",
    "                \n",
    "    return best_model, best_params, best_score\n",
    "\n",
    "# Загрузка данных\n",
    "X = energy_df.drop(['heating_load', 'cooling_load'], axis=1).values\n",
    "y = energy_df[['heating_load', 'cooling_load']].values\n",
    "\n",
    "# Нормализация данных\n",
    "scaler = StandardScaler()\n",
    "X_scaled = scaler.fit_transform(X)\n",
    "\n",
    "# Полиномиальные признаки\n",
    "poly = PolynomialFeatures(degree=2, include_bias=False)  # Степень 2\n",
    "X_poly = poly.fit_transform(X_scaled)\n",
    "\n",
    "# Разделение данных на обучающие и тестовые\n",
    "X_train, X_test, y_train, y_test = train_test_split(X_poly, y, test_size=0.3, random_state=42)\n",
    "\n",
    "# Настройка параметров модели\n",
    "param_grid = {\n",
    "    'alpha': [0.01, 0.1, 1, 10, 100],  # Регуляризационный параметр\n",
    "    'fit_intercept': [True, False]  # Включение или исключение свободного члена\n",
    "}\n",
    "\n",
    "# Инициализация модели и кросс-валидация\n",
    "model = LinearRegressionWithRidge()\n",
    "best_model, best_params, best_score = cross_validate(model, X_train, y_train, param_grid, cv=5)\n",
    "\n",
    "# Вывод лучших параметров\n",
    "print(\"Best parameters:\", best_params)\n",
    "\n",
    "# Предсказания лучшей модели\n",
    "y_pred = best_model.predict(X_test)\n",
    "\n",
    "# Оценка модели\n",
    "print(f\"Mean Absolute Error (MAE): {mean_absolute_error(y_test, y_pred)}\")\n",
    "print(f\"R-squared (R^2): {r2_score(y_test, y_pred)}\")\n"
   ]
  },
  {
   "cell_type": "markdown",
   "metadata": {},
   "source": [
    "# ЛР 3 (Решающее дерево)"
   ]
  },
  {
   "cell_type": "markdown",
   "metadata": {},
   "source": [
    "### Задача классификации"
   ]
  },
  {
   "cell_type": "markdown",
   "metadata": {},
   "source": [
    "#### Бейзлайн"
   ]
  },
  {
   "cell_type": "code",
   "execution_count": 404,
   "metadata": {},
   "outputs": [
    {
     "name": "stdout",
     "output_type": "stream",
     "text": [
      "Accuracy: 0.8202212661339889\n",
      "Precision: 0.62905317769131\n",
      "Recall: 0.6186224489795918\n",
      "F1-score: 0.6237942122186495\n"
     ]
    }
   ],
   "source": [
    "X = salary_df.drop('salary', axis=1).values\n",
    "y = salary_df['salary'].values\n",
    "\n",
    "# Разделение на обучающую и тестовую выборку\n",
    "X_train, X_test, y_train, y_test = train_test_split(X, y, test_size=0.3, stratify=y, random_state=42)\n",
    "\n",
    "# Обучение модели решающего дерева\n",
    "dtree = DecisionTreeClassifier(random_state=42)\n",
    "dtree.fit(X_train, y_train)\n",
    "\n",
    "# Предсказание\n",
    "y_get = dtree.predict(X_test)\n",
    "\n",
    "# Оценка модели\n",
    "accuracy = accuracy_score(y_test, y_get)\n",
    "precision = precision_score(y_test, y_get)\n",
    "recall = recall_score(y_test, y_get)\n",
    "f1 = f1_score(y_test, y_get)\n",
    "\n",
    "print(f\"Accuracy: {accuracy}\")\n",
    "print(f\"Precision: {precision}\")\n",
    "print(f\"Recall: {recall}\")\n",
    "print(f\"F1-score: {f1}\")"
   ]
  },
  {
   "cell_type": "markdown",
   "metadata": {},
   "source": [
    "#### Улучшенный бейзлайн"
   ]
  },
  {
   "cell_type": "markdown",
   "metadata": {},
   "source": [
    "- Создадим новый признак `net_capital_flow` из связанных `capital-gain` и `capital-loss`.\n",
    "- Применим метод `PowerTransformer` для нормализации столбца `age`, что уменьшит влияние выбросов и приведет данные к более симметричному распределению.\n",
    "- Используем метод `SMOTEENN` для синтеза новых данных и удаления шумовых. Это улучшит модель, обучая ее на более сбалансированных данных."
   ]
  },
  {
   "cell_type": "code",
   "execution_count": 405,
   "metadata": {},
   "outputs": [
    {
     "name": "stdout",
     "output_type": "stream",
     "text": [
      "Accuracy: 0.8590452776070477\n",
      "Precision: 0.6539432176656151\n",
      "Recall: 0.8813775510204082\n",
      "F1-score: 0.7508149221296632\n"
     ]
    }
   ],
   "source": [
    "# Преобразование и создание новых признаков\n",
    "salary_df['net_capital_flow'] = salary_df['capital-gain'] - salary_df['capital-loss']\n",
    "\n",
    "# Нормализация возраста\n",
    "pt = PowerTransformer(method='yeo-johnson')\n",
    "salary_df['age_normalized'] = pt.fit_transform(salary_df[['age']])\n",
    "\n",
    "# Удаляем старые признаки\n",
    "salary_df = salary_df.drop(['capital-gain', 'capital-loss', 'age'], axis=1)\n",
    "\n",
    "# Разделяем данные на признаки (X) и целевую переменную (y)\n",
    "X = salary_df.drop('salary', axis=1).values\n",
    "y = salary_df['salary'].values\n",
    "\n",
    "# Разделяем данные на обучающую и тестовую выборки\n",
    "X_train, X_test, y_train, y_test = train_test_split(X, y, test_size=0.3, stratify=y, random_state=42)\n",
    "\n",
    "# Применяем SMOTEENN для балансировки классов\n",
    "smote_enn = SMOTEENN(random_state=3)\n",
    "X_resampled_enn, y_resampled_enn = smote_enn.fit_resample(X, y)\n",
    "\n",
    "# Разделяем сбалансированные данные на обучающую и тестовую выборки\n",
    "X_train_enn, X_test_enn, y_train_enn, y_test_enn = train_test_split(X_resampled_enn, y_resampled_enn, test_size=0.3, random_state=42)\n",
    "\n",
    "# Обучаем модель решающего дерева\n",
    "decision_tree = DecisionTreeClassifier(random_state=42)\n",
    "decision_tree.fit(X_train_enn, y_train_enn)\n",
    "\n",
    "# Предсказание на тестовой выборке\n",
    "y_get = decision_tree.predict(X_test)\n",
    "\n",
    "# Оценка модели\n",
    "accuracy = accuracy_score(y_test, y_get)\n",
    "precision = precision_score(y_test, y_get)\n",
    "recall = recall_score(y_test, y_get)\n",
    "f1 = f1_score(y_test, y_get)\n",
    "\n",
    "# Вывод результатов\n",
    "print(f\"Accuracy: {accuracy}\")\n",
    "print(f\"Precision: {precision}\")\n",
    "print(f\"Recall: {recall}\")\n",
    "print(f\"F1-score: {f1}\")\n"
   ]
  },
  {
   "cell_type": "markdown",
   "metadata": {},
   "source": [
    "#### Самостоятельная имплементация"
   ]
  },
  {
   "cell_type": "code",
   "execution_count": 458,
   "metadata": {},
   "outputs": [
    {
     "name": "stdout",
     "output_type": "stream",
     "text": [
      "Accuracy: 0.7863142798606843\n",
      "Precision: 0.5344559585492228\n",
      "Recall: 0.877125850340136\n",
      "F1-score: 0.6641983258209916\n"
     ]
    }
   ],
   "source": [
    "import numpy as np\n",
    "from collections import Counter\n",
    "\n",
    "class DecisionTree:\n",
    "    def __init__(self, max_depth=None):\n",
    "        self.max_depth = max_depth\n",
    "        self.tree = None\n",
    "\n",
    "    def fit(self, X, y):\n",
    "        self.tree = self._build_tree(X, y)\n",
    "\n",
    "    def _build_tree(self, X, y, depth=0):\n",
    "        # Проверка на пустые подмножества\n",
    "        if len(set(y)) == 1:\n",
    "            return y[0]\n",
    "        \n",
    "        # Если достигнута максимальная глубина или нет возможности для дальнейшего разбиения\n",
    "        if self.max_depth is not None and depth >= self.max_depth:\n",
    "            return self._majority_class(y)\n",
    "\n",
    "        feature_index, threshold = self._best_split(X, y)\n",
    "        if feature_index is None:\n",
    "            return self._majority_class(y)\n",
    "\n",
    "        left_mask = X[:, feature_index] <= threshold\n",
    "        right_mask = ~left_mask\n",
    "\n",
    "        # Проверка на пустые подмножества\n",
    "        if len(X[left_mask]) == 0 or len(X[right_mask]) == 0:\n",
    "            return self._majority_class(y)\n",
    "\n",
    "        left_tree = self._build_tree(X[left_mask], y[left_mask], depth + 1)\n",
    "        right_tree = self._build_tree(X[right_mask], y[right_mask], depth + 1)\n",
    "\n",
    "        return (feature_index, threshold, left_tree, right_tree)\n",
    "\n",
    "    def _best_split(self, X, y):\n",
    "        best_gini = float('inf')\n",
    "        best_feature = None\n",
    "        best_threshold = None\n",
    "        m, n = X.shape\n",
    "\n",
    "        # Пробуем разбиение по каждому признаку\n",
    "        for feature_index in range(n):\n",
    "            thresholds = set(X[:, feature_index])  # Все уникальные значения признака\n",
    "\n",
    "            for threshold in thresholds:\n",
    "                left_mask = X[:, feature_index] <= threshold\n",
    "                right_mask = ~left_mask\n",
    "\n",
    "                # Если одно из подмножеств пусто, пропускаем разбиение\n",
    "                if len(X[left_mask]) == 0 or len(X[right_mask]) == 0:\n",
    "                    continue\n",
    "\n",
    "                gini = self._gini_impurity(y[left_mask], y[right_mask])\n",
    "                if gini < best_gini:\n",
    "                    best_gini = gini\n",
    "                    best_feature = feature_index\n",
    "                    best_threshold = threshold\n",
    "\n",
    "        return best_feature, best_threshold\n",
    "\n",
    "    def _gini_impurity(self, left, right):\n",
    "        # Оценка качества разбиения с помощью критерия Джини\n",
    "        left_size = len(left)\n",
    "        right_size = len(right)\n",
    "        total_size = left_size + right_size\n",
    "\n",
    "        left_proportion = Counter(left)\n",
    "        right_proportion = Counter(right)\n",
    "\n",
    "        gini_left = 1 - sum((count / left_size) ** 2 for count in left_proportion.values())\n",
    "        gini_right = 1 - sum((count / right_size) ** 2 for count in right_proportion.values())\n",
    "\n",
    "        return (left_size / total_size) * gini_left + (right_size / total_size) * gini_right\n",
    "\n",
    "    def _majority_class(self, y):\n",
    "        # Возвращает наиболее часто встречающийся класс\n",
    "        return Counter(y).most_common(1)[0][0]\n",
    "\n",
    "    def predict(self, X):\n",
    "        return [self._predict_single(x, self.tree) for x in X]\n",
    "\n",
    "    def _predict_single(self, x, tree):\n",
    "        if isinstance(tree, tuple):\n",
    "            feature_index, threshold, left_tree, right_tree = tree\n",
    "            if x[feature_index] <= threshold:\n",
    "                return self._predict_single(x, left_tree)\n",
    "            else:\n",
    "                return self._predict_single(x, right_tree)\n",
    "        else:\n",
    "            return tree\n",
    "\n",
    "# Пример использования:\n",
    "salary_df['net_capital_flow'] = salary_df['capital-gain'] - salary_df['capital-loss']\n",
    "\n",
    "pt = PowerTransformer(method='yeo-johnson')\n",
    "salary_df['age_normalized'] = pt.fit_transform(salary_df[['age']])\n",
    "\n",
    "salary_df = salary_df.drop(['capital-gain', 'capital-loss', 'age'], axis=1)\n",
    "\n",
    "X = salary_df.drop('salary', axis=1).values\n",
    "y = salary_df['salary'].values\n",
    "\n",
    "# Разделение данных на обучающую и тестовую выборки\n",
    "X_train, X_test, y_train, y_test = train_test_split(X, y, test_size=0.3, stratify=y, random_state=42)\n",
    "\n",
    "# Применяем SMOTEENN для балансировки классов\n",
    "smote_enn = SMOTEENN(random_state=3)\n",
    "X_resampled_enn, y_resampled_enn = smote_enn.fit_resample(X, y)\n",
    "\n",
    "# Разделяем сбалансированные данные на обучающую и тестовую выборки\n",
    "X_train_enn, X_test_enn, y_train_enn, y_test_enn = train_test_split(X_resampled_enn, y_resampled_enn, test_size=0.3, random_state=42)\n",
    "\n",
    "# Обучаем модель самописного решающего дерева\n",
    "tree = DecisionTree(max_depth=5)\n",
    "tree.fit(X_train_enn, y_train_enn)\n",
    "\n",
    "# Предсказание на тестовой выборке\n",
    "y_get = tree.predict(X_test)\n",
    "\n",
    "# Оценка модели\n",
    "accuracy = accuracy_score(y_test, y_get)\n",
    "precision = precision_score(y_test, y_get)\n",
    "recall = recall_score(y_test, y_get)\n",
    "f1 = f1_score(y_test, y_get)\n",
    "\n",
    "# Вывод результатов\n",
    "print(f\"Accuracy: {accuracy}\")\n",
    "print(f\"Precision: {precision}\")\n",
    "print(f\"Recall: {recall}\")\n",
    "print(f\"F1-score: {f1}\")\n"
   ]
  },
  {
   "cell_type": "markdown",
   "metadata": {},
   "source": [
    "### Задача регрессии"
   ]
  },
  {
   "cell_type": "markdown",
   "metadata": {},
   "source": [
    "#### Бейзлайн"
   ]
  },
  {
   "cell_type": "code",
   "execution_count": 673,
   "metadata": {},
   "outputs": [
    {
     "name": "stdout",
     "output_type": "stream",
     "text": [
      "Mean Absolute Error (MAE): 0.7462337662337661\n",
      "R-squared (R^2): 0.9744467116063398\n"
     ]
    }
   ],
   "source": [
    "X = energy_df.drop(['heating_load', 'cooling_load'], axis=1)\n",
    "y = energy_df[['heating_load', 'cooling_load']]\n",
    "\n",
    "# Разделение на обучающую и тестовую выборки\n",
    "X_train, X_test, y_train, y_test = train_test_split(X, y, test_size=0.3, random_state=42)\n",
    "\n",
    "# Обучаем модель решающего дерева\n",
    "dt_reg = DecisionTreeRegressor(random_state=42)\n",
    "dt_reg.fit(X_train, y_train)\n",
    "\n",
    "# Предсказание на тестовой выборке\n",
    "y_pred = dt_reg.predict(X_test)\n",
    "\n",
    "# Оценка модели\n",
    "print(f\"Mean Absolute Error (MAE): {mean_absolute_error(y_test, y_pred)}\")\n",
    "print(f\"R-squared (R^2): {r2_score(y_test, y_pred)}\")"
   ]
  },
  {
   "cell_type": "markdown",
   "metadata": {},
   "source": [
    "#### Улучшенный бейзлайн"
   ]
  },
  {
   "cell_type": "markdown",
   "metadata": {},
   "source": [
    "- Оптимизируем гиперпараметры"
   ]
  },
  {
   "cell_type": "code",
   "execution_count": 674,
   "metadata": {},
   "outputs": [
    {
     "name": "stdout",
     "output_type": "stream",
     "text": [
      "Fitting 5 folds for each of 432 candidates, totalling 2160 fits\n",
      "Best hyperparameters: {'criterion': 'friedman_mse', 'max_depth': None, 'max_features': None, 'min_samples_leaf': 2, 'min_samples_split': 10}\n",
      "Mean Absolute Error (MAE): 0.8340541297327009\n",
      "R-squared (R^2): 0.9752233976439652\n"
     ]
    }
   ],
   "source": [
    "X = energy_df.drop(['heating_load', 'cooling_load'], axis=1)\n",
    "y = energy_df[['heating_load', 'cooling_load']]\n",
    "\n",
    "# Разделение на обучающую и тестовую выборки\n",
    "X_train, X_test, y_train, y_test = train_test_split(X, y, test_size=0.3, random_state=42)\n",
    "\n",
    "# Определение модели решающего дерева\n",
    "dt_reg = DecisionTreeRegressor(random_state=42)\n",
    "\n",
    "# Определение гиперпараметров для перебора\n",
    "param_grid = {\n",
    "    'max_depth': [None, 10, 20, 30],\n",
    "    'min_samples_split': [2, 5, 10],\n",
    "    'min_samples_leaf': [1, 2, 4],\n",
    "    'max_features': [None, 'auto', 'sqrt', 'log2'],\n",
    "    'criterion': ['mse', 'friedman_mse', 'mae']\n",
    "}\n",
    "\n",
    "# Использование GridSearchCV для подбора гиперпараметров\n",
    "grid_search = GridSearchCV(estimator=dt_reg, param_grid=param_grid, cv=5, scoring='neg_mean_absolute_error', n_jobs=-1, verbose=2)\n",
    "grid_search.fit(X_train, y_train)\n",
    "\n",
    "# Вывод лучших гиперпараметров\n",
    "print(f\"Best hyperparameters: {grid_search.best_params_}\")\n",
    "\n",
    "# Обучение модели с лучшими гиперпараметрами\n",
    "best_dt_reg = grid_search.best_estimator_\n",
    "\n",
    "# Предсказание на тестовой выборке\n",
    "y_pred = best_dt_reg.predict(X_test)\n",
    "\n",
    "# Оценка модели\n",
    "print(f\"Mean Absolute Error (MAE): {mean_absolute_error(y_test, y_pred)}\")\n",
    "print(f\"R-squared (R^2): {r2_score(y_test, y_pred)}\")"
   ]
  },
  {
   "cell_type": "markdown",
   "metadata": {},
   "source": [
    "#### Самостоятельная имплементация"
   ]
  },
  {
   "cell_type": "code",
   "execution_count": 687,
   "metadata": {},
   "outputs": [
    {
     "name": "stdout",
     "output_type": "stream",
     "text": [
      "Mean Absolute Error (MAE): 1.0218680687704027\n",
      "R-squared (R^2): 0.9728272577240737\n"
     ]
    }
   ],
   "source": [
    "\n",
    "class CustomDecisionTreeRegressor:\n",
    "    def __init__(self, max_depth=None):\n",
    "        self.max_depth = max_depth\n",
    "    \n",
    "    def _mse(self, y):\n",
    "        # Среднеквадратичная ошибка для целевых переменных\n",
    "        return np.mean((y - np.mean(y, axis=0)) ** 2)\n",
    "\n",
    "    def _best_split(self, X, y):\n",
    "        # Ищем наилучшее разбиение данных\n",
    "        best_mse = float('inf')\n",
    "        best_split = None\n",
    "        best_left_y = None\n",
    "        best_right_y = None\n",
    "        best_left_X = None\n",
    "        best_right_X = None\n",
    "        for feature in X.columns:\n",
    "            values = X[feature].unique()\n",
    "            for value in values:\n",
    "                left_mask = X[feature] <= value\n",
    "                right_mask = ~left_mask\n",
    "                left_y = y[left_mask]\n",
    "                right_y = y[right_mask]\n",
    "                mse = (len(left_y) * self._mse(left_y) + len(right_y) * self._mse(right_y)) / (len(left_y) + len(right_y))\n",
    "                if mse < best_mse:\n",
    "                    best_mse = mse\n",
    "                    best_split = (feature, value)\n",
    "                    best_left_y = left_y\n",
    "                    best_right_y = right_y\n",
    "                    best_left_X = X[left_mask]\n",
    "                    best_right_X = X[right_mask]\n",
    "        return best_split, best_left_X, best_left_y, best_right_X, best_right_y\n",
    "\n",
    "    def _build_tree(self, X, y, depth=0):\n",
    "        # Рекурсивная постройка дерева решений\n",
    "        if len(set(tuple(row) for row in y.values)) == 1:  # Останавливаемся, если все значения одинаковы\n",
    "            return np.mean(y, axis=0)\n",
    "        if self.max_depth and depth >= self.max_depth:\n",
    "            return np.mean(y, axis=0)\n",
    "        \n",
    "        split, left_X, left_y, right_X, right_y = self._best_split(X, y)\n",
    "        if split is None:\n",
    "            return np.mean(y, axis=0)\n",
    "        \n",
    "        left_tree = self._build_tree(left_X, left_y, depth + 1)\n",
    "        right_tree = self._build_tree(right_X, right_y, depth + 1)\n",
    "        \n",
    "        return {'split': split, 'left': left_tree, 'right': right_tree}\n",
    "    \n",
    "    def fit(self, X, y):\n",
    "        self.tree = self._build_tree(X, y)\n",
    "    \n",
    "    def _predict_one(self, x, tree):\n",
    "        # Прогнозирование для одной строки\n",
    "        if isinstance(tree, dict):\n",
    "            feature, value = tree['split']\n",
    "            if x[feature] <= value:\n",
    "                return self._predict_one(x, tree['left'])\n",
    "            else:\n",
    "                return self._predict_one(x, tree['right'])\n",
    "        else:\n",
    "            return tree\n",
    "    \n",
    "    def predict(self, X):\n",
    "        return X.apply(lambda row: self._predict_one(row, self.tree), axis=1)\n",
    "\n",
    "# Разделение данных на признаки (X) и целевые переменные (y)\n",
    "X = energy_df.drop(['heating_load', 'cooling_load'], axis=1)\n",
    "y = energy_df[['heating_load', 'cooling_load']]\n",
    "\n",
    "# Разделение на обучающую и тестовую выборки\n",
    "X_train, X_test, y_train, y_test = train_test_split(X, y, test_size=0.3, random_state=42)\n",
    "\n",
    "# Обучение модели\n",
    "model = CustomDecisionTreeRegressor(max_depth=5)\n",
    "model.fit(X_train, y_train)\n",
    "\n",
    "# Предсказание на тестовой выборке\n",
    "y_pred = model.predict(X_test)\n",
    "\n",
    "# Оценка модели\n",
    "print(f\"Mean Absolute Error (MAE): {mean_absolute_error(y_test, y_pred)}\")\n",
    "print(f\"R-squared (R^2): {r2_score(y_test, y_pred)}\")\n"
   ]
  },
  {
   "cell_type": "markdown",
   "metadata": {},
   "source": [
    "# ЛР 4 (Случайный лес)"
   ]
  },
  {
   "cell_type": "markdown",
   "metadata": {},
   "source": [
    "### Задача классификации"
   ]
  },
  {
   "cell_type": "markdown",
   "metadata": {},
   "source": [
    "#### Бейзлайн"
   ]
  },
  {
   "cell_type": "code",
   "execution_count": 470,
   "metadata": {},
   "outputs": [
    {
     "name": "stdout",
     "output_type": "stream",
     "text": [
      "Accuracy: 0.8519770538824012\n",
      "Precision: 0.721760391198044\n",
      "Recall: 0.6275510204081632\n",
      "F1-score: 0.6713668410279736\n"
     ]
    }
   ],
   "source": [
    "from sklearn.ensemble import RandomForestClassifier\n",
    "from sklearn.metrics import accuracy_score, precision_score, recall_score, f1_score\n",
    "from sklearn.model_selection import train_test_split\n",
    "\n",
    "# Подготовка данных\n",
    "X = salary_df.drop('salary', axis=1).values\n",
    "y = salary_df['salary'].values\n",
    "\n",
    "# Разделение на обучающую и тестовую выборку\n",
    "X_train, X_test, y_train, y_test = train_test_split(X, y, test_size=0.3, stratify=y, random_state=42)\n",
    "\n",
    "# Обучение модели случайного леса\n",
    "rf = RandomForestClassifier(random_state=42, n_estimators=100, max_depth=None)\n",
    "rf.fit(X_train, y_train)\n",
    "\n",
    "# Предсказание\n",
    "y_get = rf.predict(X_test)\n",
    "\n",
    "# Оценка модели\n",
    "accuracy = accuracy_score(y_test, y_get)\n",
    "precision = precision_score(y_test, y_get)\n",
    "recall = recall_score(y_test, y_get)\n",
    "f1 = f1_score(y_test, y_get)\n",
    "\n",
    "# Вывод результатов\n",
    "print(f\"Accuracy: {accuracy}\")\n",
    "print(f\"Precision: {precision}\")\n",
    "print(f\"Recall: {recall}\")\n",
    "print(f\"F1-score: {f1}\")\n"
   ]
  },
  {
   "cell_type": "markdown",
   "metadata": {},
   "source": [
    "#### Улучшенный бейзлайн"
   ]
  },
  {
   "cell_type": "markdown",
   "metadata": {},
   "source": [
    "- Создадим новый признак `net_capital_flow` из связанных `capital-gain` и `capital-loss`.\n",
    "- Применим метод `PowerTransformer` для нормализации столбца `age`, что уменьшит влияние выбросов и приведет данные к более симметричному распределению.\n",
    "- Используем метод `SMOTEENN` для синтеза новых данных и удаления шумовых. Это улучшит модель, обучая ее на более сбалансированных данных.\n",
    "- Оптимизируем гиперпараметры"
   ]
  },
  {
   "cell_type": "code",
   "execution_count": 496,
   "metadata": {},
   "outputs": [
    {
     "name": "stdout",
     "output_type": "stream",
     "text": [
      "Fitting 3 folds for each of 324 candidates, totalling 972 fits\n",
      "Лучшие параметры: {'max_depth': None, 'max_features': 'sqrt', 'min_samples_leaf': 1, 'min_samples_split': 2, 'n_estimators': 200}\n",
      "Accuracy: 0.8686744519565662\n",
      "Precision: 0.6714743589743589\n",
      "Recall: 0.8907312925170068\n",
      "F1-score: 0.7657163742690059\n"
     ]
    }
   ],
   "source": [
    "from sklearn.ensemble import RandomForestClassifier\n",
    "from sklearn.model_selection import GridSearchCV\n",
    "from imblearn.combine import SMOTEENN\n",
    "from sklearn.preprocessing import PowerTransformer\n",
    "from sklearn.model_selection import train_test_split\n",
    "from sklearn.metrics import accuracy_score, precision_score, recall_score, f1_score\n",
    "\n",
    "# Подготовка данных\n",
    "salary_df['net_capital_flow'] = salary_df['capital-gain'] - salary_df['capital-loss']\n",
    "pt = PowerTransformer(method='yeo-johnson')\n",
    "salary_df['age_normalized'] = pt.fit_transform(salary_df[['age']])\n",
    "salary_df = salary_df.drop(['capital-gain', 'capital-loss', 'age'], axis=1)\n",
    "\n",
    "X = salary_df.drop('salary', axis=1).values\n",
    "y = salary_df['salary'].values\n",
    "\n",
    "# Балансировка классов\n",
    "smote_enn = SMOTEENN(random_state=3)\n",
    "X_resampled_enn, y_resampled_enn = smote_enn.fit_resample(X, y)\n",
    "\n",
    "# Разделение данных\n",
    "X_train_enn, X_test_enn, y_train_enn, y_test_enn = train_test_split(\n",
    "    X_resampled_enn, y_resampled_enn, test_size=0.3, random_state=42\n",
    ")\n",
    "\n",
    "# Грид для гиперпараметров\n",
    "param_grid = {\n",
    "    'n_estimators': [50, 100, 200],  # Количество деревьев\n",
    "    'max_depth': [3, 5, 10, None],  # Максимальная глубина дерева\n",
    "    'min_samples_split': [2, 5, 10],  # Минимальное количество выборок для разбиения узла\n",
    "    'min_samples_leaf': [1, 2, 4],  # Минимальное количество выборок в листе\n",
    "    'max_features': ['sqrt', 'log2', None]  # Количество признаков при разбиении\n",
    "}\n",
    "\n",
    "# Инициализация модели\n",
    "rf = RandomForestClassifier(random_state=42)\n",
    "\n",
    "# GridSearchCV для подбора гиперпараметров\n",
    "grid_search = GridSearchCV(estimator=rf, param_grid=param_grid, \n",
    "                           scoring='f1', cv=3, verbose=2, n_jobs=-1)\n",
    "grid_search.fit(X_train_enn, y_train_enn)\n",
    "\n",
    "# Лучшие параметры\n",
    "best_params = grid_search.best_params_\n",
    "print(\"Лучшие параметры:\", best_params)\n",
    "\n",
    "# Оценка модели с лучшими параметрами\n",
    "best_rf = grid_search.best_estimator_\n",
    "y_pred = best_rf.predict(X_test)\n",
    "\n",
    "accuracy = accuracy_score(y_test, y_pred)\n",
    "precision = precision_score(y_test, y_pred)\n",
    "recall = recall_score(y_test, y_pred)\n",
    "f1 = f1_score(y_test, y_pred)\n",
    "\n",
    "print(f\"Accuracy: {accuracy}\")\n",
    "print(f\"Precision: {precision}\")\n",
    "print(f\"Recall: {recall}\")\n",
    "print(f\"F1-score: {f1}\")\n"
   ]
  },
  {
   "cell_type": "markdown",
   "metadata": {},
   "source": [
    "#### Самостоятельная имплементация"
   ]
  },
  {
   "cell_type": "code",
   "execution_count": 580,
   "metadata": {},
   "outputs": [
    {
     "name": "stdout",
     "output_type": "stream",
     "text": [
      "Accuracy: 0.8440893259577955\n",
      "Precision: 0.6955702167766258\n",
      "Recall: 0.6275510204081632\n",
      "F1-score: 0.6598122485471614\n"
     ]
    }
   ],
   "source": [
    "import numpy as np\n",
    "from collections import Counter\n",
    "from sklearn.model_selection import train_test_split\n",
    "from sklearn.metrics import accuracy_score, precision_score, recall_score, f1_score\n",
    "from concurrent.futures import ThreadPoolExecutor\n",
    "\n",
    "class DecisionTree:\n",
    "    def __init__(self, max_depth=None):\n",
    "        self.max_depth = max_depth\n",
    "        self.tree = None\n",
    "\n",
    "    def fit(self, X, y):\n",
    "        self.tree = self._build_tree(X, y)\n",
    "\n",
    "    def _build_tree(self, X, y, depth=0):\n",
    "        # Проверка на пустые подмножества\n",
    "        if len(set(y)) == 1:\n",
    "            return y[0]\n",
    "        \n",
    "        # Если достигнута максимальная глубина или нет возможности для дальнейшего разбиения\n",
    "        if self.max_depth is not None and depth >= self.max_depth:\n",
    "            return self._majority_class(y)\n",
    "\n",
    "        feature_index, threshold = self._best_split(X, y)\n",
    "        if feature_index is None:\n",
    "            return self._majority_class(y)\n",
    "\n",
    "        left_mask = X[:, feature_index] <= threshold\n",
    "        right_mask = ~left_mask\n",
    "\n",
    "        # Проверка на пустые подмножества\n",
    "        if len(X[left_mask]) == 0 or len(X[right_mask]) == 0:\n",
    "            return self._majority_class(y)\n",
    "\n",
    "        left_tree = self._build_tree(X[left_mask], y[left_mask], depth + 1)\n",
    "        right_tree = self._build_tree(X[right_mask], y[right_mask], depth + 1)\n",
    "\n",
    "        return (feature_index, threshold, left_tree, right_tree)\n",
    "\n",
    "    def _best_split(self, X, y):\n",
    "        best_gini = float('inf')\n",
    "        best_feature = None\n",
    "        best_threshold = None\n",
    "        m, n = X.shape\n",
    "\n",
    "        # Пробуем разбиение по каждому признаку\n",
    "        for feature_index in range(n):\n",
    "            thresholds = np.unique(X[:, feature_index])  # Уникальные значения признака\n",
    "\n",
    "            for threshold in thresholds:\n",
    "                left_mask = X[:, feature_index] <= threshold\n",
    "                right_mask = ~left_mask\n",
    "\n",
    "                # Если одно из подмножеств пусто, пропускаем разбиение\n",
    "                if len(X[left_mask]) == 0 or len(X[right_mask]) == 0:\n",
    "                    continue\n",
    "\n",
    "                gini = self._gini_impurity(y[left_mask], y[right_mask])\n",
    "                if gini < best_gini:\n",
    "                    best_gini = gini\n",
    "                    best_feature = feature_index\n",
    "                    best_threshold = threshold\n",
    "\n",
    "        return best_feature, best_threshold\n",
    "\n",
    "    def _gini_impurity(self, left, right):\n",
    "        left_size = len(left)\n",
    "        right_size = len(right)\n",
    "        total_size = left_size + right_size\n",
    "\n",
    "        left_proportion = Counter(left)\n",
    "        right_proportion = Counter(right)\n",
    "\n",
    "        gini_left = 1 - sum((count / left_size) ** 2 for count in left_proportion.values())\n",
    "        gini_right = 1 - sum((count / right_size) ** 2 for count in right_proportion.values())\n",
    "\n",
    "        return (left_size / total_size) * gini_left + (right_size / total_size) * gini_right\n",
    "\n",
    "    def _majority_class(self, y):\n",
    "        # Возвращает наиболее часто встречающийся класс\n",
    "        return Counter(y).most_common(1)[0][0]\n",
    "\n",
    "    def predict(self, X):\n",
    "        return [self._predict_single(x, self.tree) for x in X]\n",
    "\n",
    "    def _predict_single(self, x, tree):\n",
    "        if isinstance(tree, tuple):\n",
    "            feature_index, threshold, left_tree, right_tree = tree\n",
    "            if x[feature_index] <= threshold:\n",
    "                return self._predict_single(x, left_tree)\n",
    "            else:\n",
    "                return self._predict_single(x, right_tree)\n",
    "        else:\n",
    "            return tree\n",
    "\n",
    "class MyRandomForestClassifier:\n",
    "    def __init__(self, n_estimators=100, max_depth=None, random_state=None):\n",
    "        self.n_estimators = n_estimators\n",
    "        self.max_depth = max_depth\n",
    "        self.random_state = random_state\n",
    "        self.trees = []\n",
    "\n",
    "    def fit(self, X, y):\n",
    "        np.random.seed(self.random_state)\n",
    "        with ThreadPoolExecutor() as executor:\n",
    "            futures = [executor.submit(self._train_tree, X, y) for _ in range(self.n_estimators)]\n",
    "            for future in futures:\n",
    "                self.trees.append(future.result())\n",
    "\n",
    "    def _train_tree(self, X, y):\n",
    "        # Сэмплирование с возвращением\n",
    "        idx = np.random.choice(len(X), size=len(X), replace=True)\n",
    "        X_sample, y_sample = X[idx], y[idx]\n",
    "\n",
    "        # Обучаем дерево на случайном подмножестве данных\n",
    "        tree = DecisionTree(max_depth=self.max_depth)\n",
    "        tree.fit(X_sample, y_sample)\n",
    "        return tree\n",
    "\n",
    "    def predict(self, X):\n",
    "        # Собираем предсказания от всех деревьев\n",
    "        predictions = np.array([tree.predict(X) for tree in self.trees])\n",
    "        # Возвращаем наиболее частое предсказание\n",
    "        return [Counter(pred).most_common(1)[0][0] for pred in predictions.T]\n",
    "\n",
    "# Подготовка данных\n",
    "X = salary_df.drop('salary', axis=1).values\n",
    "y = salary_df['salary'].values\n",
    "\n",
    "# Разделение на обучающую и тестовую выборку\n",
    "X_train, X_test, y_train, y_test = train_test_split(X, y, test_size=0.3, stratify=y, random_state=42)\n",
    "\n",
    "# Обучение модели случайного леса\n",
    "rf = MyRandomForestClassifier(n_estimators=100, max_depth=None, random_state=42)\n",
    "rf.fit(X_train, y_train)\n",
    "\n",
    "# Предсказание\n",
    "y_get = rf.predict(X_test)\n",
    "\n",
    "# Оценка модели\n",
    "accuracy = accuracy_score(y_test, y_get)\n",
    "precision = precision_score(y_test, y_get)\n",
    "recall = recall_score(y_test, y_get)\n",
    "f1 = f1_score(y_test, y_get)\n",
    "\n",
    "# Вывод результатов\n",
    "print(f\"Accuracy: {accuracy}\")\n",
    "print(f\"Precision: {precision}\")\n",
    "print(f\"Recall: {recall}\")\n",
    "print(f\"F1-score: {f1}\")\n"
   ]
  },
  {
   "cell_type": "markdown",
   "metadata": {},
   "source": [
    "### Задача регрессии"
   ]
  },
  {
   "cell_type": "markdown",
   "metadata": {},
   "source": [
    "#### Бейзлайн"
   ]
  },
  {
   "cell_type": "code",
   "execution_count": 689,
   "metadata": {},
   "outputs": [
    {
     "name": "stdout",
     "output_type": "stream",
     "text": [
      "Mean Absolute Error (MAE): 0.7099976190476174\n",
      "R-squared (R^2): 0.9811305513221575\n"
     ]
    }
   ],
   "source": [
    "# Разделение на обучающую и тестовую выборки\n",
    "X = energy_df.drop(['heating_load', 'cooling_load'], axis=1)\n",
    "y = energy_df[['heating_load', 'cooling_load']]\n",
    "\n",
    "X_train, X_test, y_train, y_test = train_test_split(X, y, test_size=0.3, random_state=42)\n",
    "\n",
    "# Обучаем модель случайного леса\n",
    "rf_reg = RandomForestRegressor(random_state=42)\n",
    "rf_reg.fit(X_train, y_train)\n",
    "\n",
    "# Предсказание на тестовой выборке\n",
    "y_pred = rf_reg.predict(X_test)\n",
    "\n",
    "# Оценка модели\n",
    "print(f\"Mean Absolute Error (MAE): {mean_absolute_error(y_test, y_pred)}\")\n",
    "print(f\"R-squared (R^2): {r2_score(y_test, y_pred)}\")\n"
   ]
  },
  {
   "cell_type": "markdown",
   "metadata": {},
   "source": [
    "#### Улучшенный бейзлайн"
   ]
  },
  {
   "cell_type": "markdown",
   "metadata": {},
   "source": [
    "- Оптимизируем гиперпараметры"
   ]
  },
  {
   "cell_type": "code",
   "execution_count": 690,
   "metadata": {},
   "outputs": [
    {
     "name": "stdout",
     "output_type": "stream",
     "text": [
      "Best parameters: {'max_depth': None, 'max_features': 'log2', 'min_samples_leaf': 1, 'min_samples_split': 2, 'n_estimators': 200}\n",
      "Mean Absolute Error (MAE): 0.6953030303030266\n",
      "R-squared (R^2): 0.9844953613012803\n"
     ]
    }
   ],
   "source": [
    "# Разделение на обучающую и тестовую выборки\n",
    "X = energy_df.drop(['heating_load', 'cooling_load'], axis=1)\n",
    "y = energy_df[['heating_load', 'cooling_load']]\n",
    "\n",
    "X_train, X_test, y_train, y_test = train_test_split(X, y, test_size=0.3, random_state=42)\n",
    "\n",
    "# Подбор гиперпараметров с помощью GridSearchCV\n",
    "param_grid = {\n",
    "    'n_estimators': [50, 100, 200],        # Количество деревьев\n",
    "    'max_depth': [None, 10, 20, 30],        # Максимальная глубина дерева\n",
    "    'min_samples_split': [2, 5, 10],        # Минимальное количество выборок для разделения\n",
    "    'min_samples_leaf': [1, 2, 4],          # Минимальное количество выборок в листе\n",
    "    'max_features': ['auto', 'sqrt', 'log2']  # Количество признаков для разбиения\n",
    "}\n",
    "\n",
    "# Инициализация модели случайного леса\n",
    "rf_reg = RandomForestRegressor(random_state=42)\n",
    "\n",
    "# Настроим GridSearchCV для подбора гиперпараметров\n",
    "grid_search = GridSearchCV(estimator=rf_reg, param_grid=param_grid, cv=5, scoring='neg_mean_absolute_error')\n",
    "grid_search.fit(X_train, y_train)\n",
    "\n",
    "# Лучшие параметры\n",
    "print(\"Best parameters:\", grid_search.best_params_)\n",
    "\n",
    "# Получаем лучшую модель\n",
    "best_rf_reg = grid_search.best_estimator_\n",
    "\n",
    "# Предсказания на тестовой выборке\n",
    "y_pred = best_rf_reg.predict(X_test)\n",
    "\n",
    "# Оценка модели\n",
    "print(f\"Mean Absolute Error (MAE): {mean_absolute_error(y_test, y_pred)}\")\n",
    "print(f\"R-squared (R^2): {r2_score(y_test, y_pred)}\")\n"
   ]
  },
  {
   "cell_type": "markdown",
   "metadata": {},
   "source": [
    "#### Самостоятельная имплементация"
   ]
  },
  {
   "cell_type": "code",
   "execution_count": 693,
   "metadata": {},
   "outputs": [
    {
     "name": "stdout",
     "output_type": "stream",
     "text": [
      "Mean Absolute Error (MAE): 0.7668492335934869\n",
      "R-squared (R^2): 0.979343922751161\n"
     ]
    }
   ],
   "source": [
    "class CustomDecisionTree:\n",
    "    def __init__(self, max_depth=None, min_samples_split=2, min_samples_leaf=1):\n",
    "        self.max_depth = max_depth\n",
    "        self.min_samples_split = min_samples_split\n",
    "        self.min_samples_leaf = min_samples_leaf\n",
    "        self.tree = None\n",
    "\n",
    "    def fit(self, X, y):\n",
    "        self.tree = self._build_tree(X, y)\n",
    "\n",
    "    def _build_tree(self, X, y, depth=0):\n",
    "        n_samples, n_features = X.shape\n",
    "        n_targets = y.shape[1]\n",
    "\n",
    "        # Если достигнута максимальная глубина или минимальное количество выборок\n",
    "        if (self.max_depth and depth >= self.max_depth) or n_samples <= self.min_samples_leaf:\n",
    "            return np.mean(y, axis=0)\n",
    "\n",
    "        # Поиск наилучшего разделения\n",
    "        best_split = self._best_split(X, y)\n",
    "        if best_split is None:\n",
    "            return np.mean(y, axis=0)\n",
    "\n",
    "        left_idx, right_idx = best_split['left'], best_split['right']\n",
    "        left_tree = self._build_tree(X.iloc[left_idx], y.iloc[left_idx], depth + 1)\n",
    "        right_tree = self._build_tree(X.iloc[right_idx], y.iloc[right_idx], depth + 1)\n",
    "\n",
    "        return {'feature': best_split['feature'], 'value': best_split['value'],\n",
    "                'left': left_tree, 'right': right_tree}\n",
    "\n",
    "    def _best_split(self, X, y):\n",
    "        best_mse = float('inf')\n",
    "        best_split = None\n",
    "        n_samples, n_features = X.shape\n",
    "\n",
    "        # Перебор всех признаков и всех возможных разделений\n",
    "        for feature in range(n_features):\n",
    "            values = X.iloc[:, feature].unique()\n",
    "            for value in values:\n",
    "                left_idx = np.where(X.iloc[:, feature].values <= value)[0]\n",
    "                right_idx = np.where(X.iloc[:, feature].values > value)[0]\n",
    "\n",
    "                if len(left_idx) < self.min_samples_split or len(right_idx) < self.min_samples_split:\n",
    "                    continue\n",
    "\n",
    "                left_y, right_y = y.iloc[left_idx], y.iloc[right_idx]\n",
    "                mse = self._compute_mse(left_y, right_y)\n",
    "                if mse < best_mse:\n",
    "                    best_mse = mse\n",
    "                    best_split = {'feature': feature, 'value': value, 'left': left_idx, 'right': right_idx}\n",
    "\n",
    "        return best_split\n",
    "\n",
    "    def _compute_mse(self, left_y, right_y):\n",
    "        left_mean = np.mean(left_y, axis=0)\n",
    "        right_mean = np.mean(right_y, axis=0)\n",
    "        left_mse = np.mean((left_y - left_mean) ** 2)\n",
    "        right_mse = np.mean((right_y - right_mean) ** 2)\n",
    "        return left_mse * len(left_y) + right_mse * len(right_y)\n",
    "\n",
    "    def predict(self, X):\n",
    "        return np.array([self._predict_sample(sample, self.tree) for sample in X.values])\n",
    "\n",
    "    def _predict_sample(self, sample, tree):\n",
    "        if not isinstance(tree, dict):\n",
    "            return tree  # Это среднее значение для этого листа\n",
    "\n",
    "        if sample[tree['feature']] <= tree['value']:\n",
    "            return self._predict_sample(sample, tree['left'])\n",
    "        else:\n",
    "            return self._predict_sample(sample, tree['right'])\n",
    "\n",
    "\n",
    "class CustomRandomForest:\n",
    "    def __init__(self, n_estimators=100, max_depth=None, min_samples_split=2, min_samples_leaf=1):\n",
    "        self.n_estimators = n_estimators\n",
    "        self.max_depth = max_depth\n",
    "        self.min_samples_split = min_samples_split\n",
    "        self.min_samples_leaf = min_samples_leaf\n",
    "        self.trees = []\n",
    "\n",
    "    def fit(self, X, y):\n",
    "        self.trees = []\n",
    "        np.random.seed(42)  # Устанавливаем seed для детерминированности\n",
    "\n",
    "        for _ in range(self.n_estimators):\n",
    "            bootstrap_indices = np.random.choice(X.shape[0], size=X.shape[0], replace=True)\n",
    "            X_bootstrap = X.iloc[bootstrap_indices]\n",
    "            y_bootstrap = y.iloc[bootstrap_indices]\n",
    "\n",
    "            tree = CustomDecisionTree(max_depth=self.max_depth,\n",
    "                                      min_samples_split=self.min_samples_split,\n",
    "                                      min_samples_leaf=self.min_samples_leaf)\n",
    "            tree.fit(X_bootstrap, y_bootstrap)\n",
    "            self.trees.append(tree)\n",
    "\n",
    "    def predict(self, X):\n",
    "        tree_preds = np.zeros((X.shape[0], 2))\n",
    "        for tree in self.trees:\n",
    "            tree_preds += tree.predict(X)\n",
    "        return tree_preds / self.n_estimators\n",
    "\n",
    "\n",
    "# Разделение на обучающую и тестовую выборки\n",
    "X = energy_df.drop(['heating_load', 'cooling_load'], axis=1)\n",
    "y = energy_df[['heating_load', 'cooling_load']]\n",
    "\n",
    "X_train, X_test, y_train, y_test = train_test_split(X, y, test_size=0.3, random_state=42)\n",
    "\n",
    "# Обучаем модель случайного леса\n",
    "rf_reg = CustomRandomForest(n_estimators=100, max_depth=10, min_samples_split=2, min_samples_leaf=1)\n",
    "rf_reg.fit(X_train, y_train)\n",
    "\n",
    "# Предсказание на тестовой выборке\n",
    "y_pred = rf_reg.predict(X_test)\n",
    "\n",
    "# Оценка модели\n",
    "print(f\"Mean Absolute Error (MAE): {mean_absolute_error(y_test, y_pred)}\")\n",
    "print(f\"R-squared (R^2): {r2_score(y_test, y_pred)}\")\n"
   ]
  },
  {
   "cell_type": "markdown",
   "metadata": {},
   "source": [
    "# ЛР 5 (Градиентный бустинг)"
   ]
  },
  {
   "cell_type": "markdown",
   "metadata": {},
   "source": [
    "### Задача классификации"
   ]
  },
  {
   "cell_type": "markdown",
   "metadata": {},
   "source": [
    "#### Бейзлайн"
   ]
  },
  {
   "cell_type": "code",
   "execution_count": null,
   "metadata": {},
   "outputs": [
    {
     "name": "stdout",
     "output_type": "stream",
     "text": [
      "Accuracy: 0.8700061462814997\n",
      "Precision: 0.8033613445378152\n",
      "Recall: 0.6096938775510204\n",
      "F1-score: 0.6932559825960841\n"
     ]
    }
   ],
   "source": [
    "# Подготовка данных\n",
    "X = salary_df.drop('salary', axis=1).values\n",
    "y = salary_df['salary'].values\n",
    "\n",
    "# Разделение на обучающую и тестовую выборку\n",
    "X_train, X_test, y_train, y_test = train_test_split(X, y, test_size=0.3, stratify=y, random_state=42)\n",
    "\n",
    "# Обучение модели градиентного бустинга\n",
    "gb = GradientBoostingClassifier(random_state=42, n_estimators=100, max_depth=3, learning_rate=0.1)\n",
    "gb.fit(X_train, y_train)\n",
    "\n",
    "# Предсказание\n",
    "y_get = gb.predict(X_test)\n",
    "\n",
    "# Оценка модели\n",
    "accuracy = accuracy_score(y_test, y_get)\n",
    "precision = precision_score(y_test, y_get)\n",
    "recall = recall_score(y_test, y_get)\n",
    "f1 = f1_score(y_test, y_get)\n",
    "\n",
    "# Вывод результатов\n",
    "print(f\"Accuracy: {accuracy}\")\n",
    "print(f\"Precision: {precision}\")\n",
    "print(f\"Recall: {recall}\")\n",
    "print(f\"F1-score: {f1}\")\n"
   ]
  },
  {
   "cell_type": "markdown",
   "metadata": {},
   "source": [
    "#### Улучшенный бейзлайн"
   ]
  },
  {
   "cell_type": "markdown",
   "metadata": {},
   "source": [
    "- Создадим новый признак `net_capital_flow` из связанных `capital-gain` и `capital-loss`.\n",
    "- Применим метод `PowerTransformer` для нормализации столбца `age`, что уменьшит влияние выбросов и приведет данные к более симметричному распределению.\n",
    "- Используем метод `SMOTEENN` для синтеза новых данных и удаления шумовых. Это улучшит модель, обучая ее на более сбалансированных данных.\n",
    "- Оптимизируем гиперпараметры."
   ]
  },
  {
   "cell_type": "code",
   "execution_count": 606,
   "metadata": {},
   "outputs": [
    {
     "name": "stdout",
     "output_type": "stream",
     "text": [
      "Fitting 3 folds for each of 486 candidates, totalling 1458 fits\n",
      "Лучшие гиперпараметры: {'learning_rate': 0.2, 'max_depth': 7, 'min_samples_leaf': 4, 'min_samples_split': 10, 'n_estimators': 150, 'subsample': 1.0}\n",
      "Accuracy: 0.8631427986068428\n",
      "Precision: 0.6689837802052301\n",
      "Recall: 0.8574459058124735\n",
      "F1-score: 0.7515805132019338\n"
     ]
    }
   ],
   "source": [
    "# Преобразование и создание новых признаков\n",
    "salary_df['net_capital_flow'] = salary_df['capital-gain'] - salary_df['capital-loss']\n",
    "\n",
    "# Нормализация возраста\n",
    "pt = PowerTransformer(method='yeo-johnson')\n",
    "salary_df['age_normalized'] = pt.fit_transform(salary_df[['age']])\n",
    "\n",
    "# Удаляем старые признаки\n",
    "salary_df = salary_df.drop(['capital-gain', 'capital-loss', 'age'], axis=1)\n",
    "\n",
    "# Разделяем данные на признаки (X) и целевую переменную (y)\n",
    "X = salary_df.drop('salary', axis=1).values\n",
    "y = salary_df['salary'].values\n",
    "\n",
    "X_train, X_test, y_train, y_test = train_test_split(X, y, test_size=0.3, random_state=42)\n",
    "\n",
    "\n",
    "# Применяем SMOTEENN для балансировки классов\n",
    "smote_enn = SMOTEENN(random_state=3)\n",
    "X_resampled_enn, y_resampled_enn = smote_enn.fit_resample(X, y)\n",
    "\n",
    "# Разделяем сбалансированные данные на обучающую и тестовую выборки\n",
    "X_train_enn, X_test_enn, y_train_enn, y_test_enn = train_test_split(\n",
    "    X_resampled_enn, y_resampled_enn, test_size=0.3, random_state=42\n",
    ")\n",
    "\n",
    "# Сетка гиперпараметров\n",
    "param_grid = {\n",
    "    'n_estimators': [50, 100, 150],         # Количество деревьев\n",
    "    'max_depth': [3, 5, 7],                # Максимальная глубина дерева\n",
    "    'learning_rate': [0.01, 0.1, 0.2],     # Скорость обучения\n",
    "    'subsample': [0.8, 1.0],               # Доля данных, используемых для каждого дерева\n",
    "    'min_samples_split': [2, 5, 10],       # Минимальное число образцов для разделения\n",
    "    'min_samples_leaf': [1, 2, 4]          # Минимальное число образцов в листе\n",
    "}\n",
    "\n",
    "# Модель градиентного бустинга\n",
    "gb = GradientBoostingClassifier(random_state=42)\n",
    "\n",
    "# GridSearchCV\n",
    "grid_search = GridSearchCV(\n",
    "    estimator=gb,\n",
    "    param_grid=param_grid,\n",
    "    scoring='f1',  # Оцениваем по F1-score\n",
    "    cv=3,          # Кросс-валидация с 3 фолдами\n",
    "    verbose=2,\n",
    "    n_jobs=-1      # Использование всех процессоров\n",
    ")\n",
    "\n",
    "# Обучение и подбор гиперпараметров\n",
    "grid_search.fit(X_train_enn, y_train_enn)\n",
    "\n",
    "# Лучшие гиперпараметры\n",
    "best_params = grid_search.best_params_\n",
    "print(f\"Лучшие гиперпараметры: {best_params}\")\n",
    "\n",
    "# Лучшая модель\n",
    "best_gb = grid_search.best_estimator_\n",
    "\n",
    "# Предсказание на тестовой выборке\n",
    "y_get = best_gb.predict(X_test)\n",
    "\n",
    "# Оценка модели\n",
    "accuracy = accuracy_score(y_test, y_get)\n",
    "precision = precision_score(y_test, y_get)\n",
    "recall = recall_score(y_test, y_get)\n",
    "f1 = f1_score(y_test, y_get)\n",
    "\n",
    "# Вывод результатов\n",
    "print(f\"Accuracy: {accuracy}\")\n",
    "print(f\"Precision: {precision}\")\n",
    "print(f\"Recall: {recall}\")\n",
    "print(f\"F1-score: {f1}\")\n"
   ]
  },
  {
   "cell_type": "markdown",
   "metadata": {},
   "source": [
    "#### Самостоятельная имплементация"
   ]
  },
  {
   "cell_type": "code",
   "execution_count": 621,
   "metadata": {},
   "outputs": [
    {
     "name": "stdout",
     "output_type": "stream",
     "text": [
      "Accuracy: 0.8244212251587789\n",
      "Precision: 0.9650145772594753\n",
      "Recall: 0.2814625850340136\n",
      "F1-score: 0.4358130348913759\n"
     ]
    }
   ],
   "source": [
    "import numpy as np\n",
    "from sklearn.tree import DecisionTreeRegressor\n",
    "from sklearn.metrics import accuracy_score, precision_score, recall_score, f1_score\n",
    "\n",
    "\n",
    "class GradientBoostingClassifierCustom:\n",
    "    def __init__(self, n_estimators=100, learning_rate=0.1, max_depth=3):\n",
    "        self.n_estimators = n_estimators\n",
    "        self.learning_rate = learning_rate\n",
    "        self.max_depth = max_depth\n",
    "        self.models = []\n",
    "        self.base_prediction = None\n",
    "\n",
    "    def fit(self, X, y):\n",
    "        # Преобразуем целевые классы в -1 и 1 для бинарной классификации\n",
    "        y_transformed = np.where(y == y[0], -1, 1)\n",
    "\n",
    "        # Начальная предсказанная вероятность\n",
    "        self.base_prediction = np.log((1 + np.mean(y_transformed)) / (1 - np.mean(y_transformed)))\n",
    "        current_predictions = np.full(y.shape, self.base_prediction)\n",
    "\n",
    "        for _ in range(self.n_estimators):\n",
    "            # Градиент (отрицательный градиент логарифмической функции потерь)\n",
    "            residuals = y_transformed - self._sigmoid(current_predictions)\n",
    "\n",
    "            # Обучаем регрессионное дерево\n",
    "            model = DecisionTreeRegressor(max_depth=self.max_depth)\n",
    "            model.fit(X, residuals)\n",
    "            self.models.append(model)\n",
    "\n",
    "            # Обновляем текущие предсказания\n",
    "            current_predictions += self.learning_rate * model.predict(X)\n",
    "\n",
    "    def predict_proba(self, X):\n",
    "        # Предсказания на основе суммы деревьев\n",
    "        predictions = np.full(X.shape[0], self.base_prediction)\n",
    "        for model in self.models:\n",
    "            predictions += self.learning_rate * model.predict(X)\n",
    "        return self._sigmoid(predictions)\n",
    "\n",
    "    def predict(self, X):\n",
    "        # Преобразуем вероятности в классы\n",
    "        probabilities = self.predict_proba(X)\n",
    "        return np.where(probabilities > 0.5, 1, 0)\n",
    "\n",
    "    def _sigmoid(self, x):\n",
    "        return 1 / (1 + np.exp(-x))\n",
    "\n",
    "# Преобразование и создание новых признаков\n",
    "salary_df['net_capital_flow'] = salary_df['capital-gain'] - salary_df['capital-loss']\n",
    "\n",
    "# Нормализация возраста\n",
    "pt = PowerTransformer(method='yeo-johnson')\n",
    "salary_df['age_normalized'] = pt.fit_transform(salary_df[['age']])\n",
    "\n",
    "# Удаляем старые признаки\n",
    "salary_df = salary_df.drop(['capital-gain', 'capital-loss', 'age'], axis=1)\n",
    "\n",
    "# Подготовка данных\n",
    "X = salary_df.drop('salary', axis=1).values\n",
    "y = salary_df['salary'].values\n",
    "\n",
    "# Разделение на обучающую и тестовую выборку\n",
    "X_train, X_test, y_train, y_test = train_test_split(X, y, test_size=0.3, stratify=y, random_state=42)\n",
    "\n",
    "# Обучение модели\n",
    "gb_custom = GradientBoostingClassifierCustom(n_estimators=150, learning_rate=0.2, max_depth=7)\n",
    "gb_custom.fit(X_train, y_train)\n",
    "\n",
    "# Предсказание\n",
    "y_get = gb_custom.predict(X_test)\n",
    "\n",
    "# Оценка модели\n",
    "accuracy = accuracy_score(y_test, y_get)\n",
    "precision = precision_score(y_test, y_get)\n",
    "recall = recall_score(y_test, y_get)\n",
    "f1 = f1_score(y_test, y_get)\n",
    "\n",
    "# Вывод результатов\n",
    "print(f\"Accuracy: {accuracy}\")\n",
    "print(f\"Precision: {precision}\")\n",
    "print(f\"Recall: {recall}\")\n",
    "print(f\"F1-score: {f1}\")\n"
   ]
  },
  {
   "cell_type": "markdown",
   "metadata": {},
   "source": [
    "### Задача регрессии"
   ]
  },
  {
   "cell_type": "markdown",
   "metadata": {},
   "source": [
    "#### Бейзлайн"
   ]
  },
  {
   "cell_type": "code",
   "execution_count": 698,
   "metadata": {},
   "outputs": [
    {
     "name": "stdout",
     "output_type": "stream",
     "text": [
      "Average Mean Absolute Error (MAE): 0.6824182062563575\n",
      "Average R-squared (R^2): 0.9868566493043852\n"
     ]
    }
   ],
   "source": [
    "# Разделение на обучающую и тестовую выборки\n",
    "X = energy_df.drop(['heating_load', 'cooling_load'], axis=1)\n",
    "y = energy_df[['heating_load', 'cooling_load']]\n",
    "\n",
    "X_train, X_test, y_train, y_test = train_test_split(X, y, test_size=0.3, random_state=42)\n",
    "\n",
    "# Обучаем модель градиентного бустинга для heating_load\n",
    "gb_reg_heating = GradientBoostingRegressor(random_state=42)\n",
    "gb_reg_heating.fit(X_train, y_train['heating_load'])\n",
    "\n",
    "# Обучаем модель градиентного бустинга для cooling_load\n",
    "gb_reg_cooling = GradientBoostingRegressor(random_state=42)\n",
    "gb_reg_cooling.fit(X_train, y_train['cooling_load'])\n",
    "\n",
    "# Предсказание на тестовой выборке для heating_load\n",
    "y_pred_heating = gb_reg_heating.predict(X_test)\n",
    "\n",
    "# Предсказание на тестовой выборке для cooling_load\n",
    "y_pred_cooling = gb_reg_cooling.predict(X_test)\n",
    "\n",
    "# Оценка модели для heating_load\n",
    "mae_heating = mean_absolute_error(y_test['heating_load'], y_pred_heating)\n",
    "r2_heating = r2_score(y_test['heating_load'], y_pred_heating)\n",
    "\n",
    "# Оценка модели для cooling_load\n",
    "mae_cooling = mean_absolute_error(y_test['cooling_load'], y_pred_cooling)\n",
    "r2_cooling = r2_score(y_test['cooling_load'], y_pred_cooling)\n",
    "\n",
    "# Получение среднего значения MAE и R^2\n",
    "mean_mae = (mae_heating + mae_cooling) / 2\n",
    "mean_r2 = (r2_heating + r2_cooling) / 2\n",
    "\n",
    "# Вывод результатов\n",
    "print(f\"Average Mean Absolute Error (MAE): {mean_mae}\")\n",
    "print(f\"Average R-squared (R^2): {mean_r2}\")\n"
   ]
  },
  {
   "cell_type": "markdown",
   "metadata": {},
   "source": [
    "#### Улучшенный бейзлайн"
   ]
  },
  {
   "cell_type": "markdown",
   "metadata": {},
   "source": [
    "- Оптимизируем гиперпараметры"
   ]
  },
  {
   "cell_type": "code",
   "execution_count": 699,
   "metadata": {},
   "outputs": [
    {
     "name": "stdout",
     "output_type": "stream",
     "text": [
      "Best Hyperparameters: {'learning_rate': 0.1, 'max_depth': 5, 'max_features': 'log2', 'min_samples_leaf': 1, 'min_samples_split': 2, 'n_estimators': 300, 'subsample': 1.0}\n",
      "Average Mean Absolute Error (MAE): 0.3974606769224013\n",
      "Average R-squared (R^2): 0.9954043681782072\n"
     ]
    }
   ],
   "source": [
    "from sklearn.model_selection import GridSearchCV\n",
    "from sklearn.ensemble import GradientBoostingRegressor\n",
    "from sklearn.model_selection import train_test_split\n",
    "from sklearn.metrics import mean_absolute_error, r2_score\n",
    "\n",
    "# Разделение на обучающую и тестовую выборки\n",
    "X = energy_df.drop(['heating_load', 'cooling_load'], axis=1)\n",
    "y = energy_df[['heating_load', 'cooling_load']]\n",
    "\n",
    "X_train, X_test, y_train, y_test = train_test_split(X, y, test_size=0.3, random_state=42)\n",
    "\n",
    "# Параметры для GridSearch\n",
    "param_grid = {\n",
    "    'n_estimators': [100, 200, 300],  # Количество деревьев\n",
    "    'learning_rate': [0.01, 0.05, 0.1],  # Скорость обучения\n",
    "    'max_depth': [3, 5, 7],  # Глубина деревьев\n",
    "    'min_samples_split': [2, 5, 10],  # Минимальное количество образцов для разделения узла\n",
    "    'min_samples_leaf': [1, 2, 4],  # Минимальное количество образцов в листьях\n",
    "    'subsample': [0.8, 0.9, 1.0],  # Доля выборки для каждого дерева\n",
    "    'max_features': [None, 'sqrt', 'log2']  # Количество признаков для разделения\n",
    "}\n",
    "\n",
    "# Создание модели градиентного бустинга\n",
    "gb_reg = GradientBoostingRegressor(random_state=42)\n",
    "\n",
    "# GridSearchCV для подбора гиперпараметров\n",
    "grid_search = GridSearchCV(estimator=gb_reg, param_grid=param_grid, cv=3, n_jobs=-1, scoring='neg_mean_absolute_error')\n",
    "\n",
    "# Обучение модели с подбором гиперпараметров\n",
    "grid_search.fit(X_train, y_train['heating_load'])  # Здесь для одной целевой переменной\n",
    "\n",
    "# Вывод лучших гиперпараметров\n",
    "print(f\"Best Hyperparameters: {grid_search.best_params_}\")\n",
    "\n",
    "# Обучение модели с лучшими гиперпараметрами\n",
    "best_model = grid_search.best_estimator_\n",
    "\n",
    "# Предсказание на тестовой выборке для heating_load\n",
    "y_pred_heating = best_model.predict(X_test)\n",
    "\n",
    "# Оценка модели для heating_load\n",
    "mae_heating = mean_absolute_error(y_test['heating_load'], y_pred_heating)\n",
    "r2_heating = r2_score(y_test['heating_load'], y_pred_heating)\n",
    "\n",
    "# Предсказание на тестовой выборке для cooling_load\n",
    "best_model.fit(X_train, y_train['cooling_load'])  # Обучаем для второй целевой переменной\n",
    "y_pred_cooling = best_model.predict(X_test)\n",
    "\n",
    "# Оценка модели для cooling_load\n",
    "mae_cooling = mean_absolute_error(y_test['cooling_load'], y_pred_cooling)\n",
    "r2_cooling = r2_score(y_test['cooling_load'], y_pred_cooling)\n",
    "\n",
    "# Получение среднего значения MAE и R^2\n",
    "mean_mae = (mae_heating + mae_cooling) / 2\n",
    "mean_r2 = (r2_heating + r2_cooling) / 2\n",
    "\n",
    "# Вывод результатов\n",
    "print(f\"Average Mean Absolute Error (MAE): {mean_mae}\")\n",
    "print(f\"Average R-squared (R^2): {mean_r2}\")\n"
   ]
  },
  {
   "cell_type": "markdown",
   "metadata": {},
   "source": [
    "#### Самостоятельная имплементация"
   ]
  },
  {
   "cell_type": "code",
   "execution_count": 703,
   "metadata": {},
   "outputs": [
    {
     "name": "stdout",
     "output_type": "stream",
     "text": [
      "Average Mean Absolute Error (MAE): 1.3175994157064506\n",
      "Average R-squared (R^2): 0.9728210652309206\n"
     ]
    }
   ],
   "source": [
    "\n",
    "class CustomGradientBoostingRegressor:\n",
    "    def __init__(self, n_estimators=100, learning_rate=0.1, max_depth=3):\n",
    "        self.n_estimators = n_estimators\n",
    "        self.learning_rate = learning_rate\n",
    "        self.max_depth = max_depth\n",
    "        self.models = []\n",
    "\n",
    "    def fit(self, X, y):\n",
    "        # Инициализация предсказания как среднего значения целевой переменной\n",
    "        y_pred = np.mean(y)\n",
    "        \n",
    "        for _ in range(self.n_estimators):\n",
    "            # Вычисление остаточных ошибок\n",
    "            residuals = y - y_pred\n",
    "            \n",
    "            # Обучение модели на остатках\n",
    "            model = DecisionTreeRegressor(max_depth=self.max_depth)\n",
    "            model.fit(X, residuals)\n",
    "            self.models.append(model)\n",
    "            \n",
    "            # Обновление предсказаний\n",
    "            y_pred += self.learning_rate * model.predict(X)\n",
    "    \n",
    "    def predict(self, X):\n",
    "        # Начальные предсказания\n",
    "        y_pred = np.mean(y_train)\n",
    "        \n",
    "        # Применение каждого дерева для вычисления окончательного предсказания\n",
    "        for model in self.models:\n",
    "            y_pred += self.learning_rate * model.predict(X)\n",
    "        \n",
    "        return y_pred\n",
    "\n",
    "\n",
    "# Разделение на обучающую и тестовую выборки\n",
    "X = energy_df.drop(['heating_load', 'cooling_load'], axis=1)\n",
    "y = energy_df[['heating_load', 'cooling_load']]\n",
    "\n",
    "X_train, X_test, y_train, y_test = train_test_split(X, y, test_size=0.3, random_state=42)\n",
    "\n",
    "# Обучаем самописный градиентный бустинг для heating_load\n",
    "gb_reg_heating = CustomGradientBoostingRegressor(n_estimators=100, learning_rate=0.1, max_depth=3)\n",
    "gb_reg_heating.fit(X_train, y_train['heating_load'])\n",
    "\n",
    "# Обучаем самописный градиентный бустинг для cooling_load\n",
    "gb_reg_cooling = CustomGradientBoostingRegressor(n_estimators=100, learning_rate=0.1, max_depth=3)\n",
    "gb_reg_cooling.fit(X_train, y_train['cooling_load'])\n",
    "\n",
    "# Предсказание на тестовой выборке для heating_load\n",
    "y_pred_heating = gb_reg_heating.predict(X_test)\n",
    "\n",
    "# Предсказание на тестовой выборке для cooling_load\n",
    "y_pred_cooling = gb_reg_cooling.predict(X_test)\n",
    "\n",
    "# Оценка модели для heating_load\n",
    "mae_heating = mean_absolute_error(y_test['heating_load'], y_pred_heating)\n",
    "r2_heating = r2_score(y_test['heating_load'], y_pred_heating)\n",
    "\n",
    "# Оценка модели для cooling_load\n",
    "mae_cooling = mean_absolute_error(y_test['cooling_load'], y_pred_cooling)\n",
    "r2_cooling = r2_score(y_test['cooling_load'], y_pred_cooling)\n",
    "\n",
    "# Получение среднего значения MAE и R^2\n",
    "mean_mae = (mae_heating + mae_cooling) / 2\n",
    "mean_r2 = (r2_heating + r2_cooling) / 2\n",
    "\n",
    "# Вывод результатов\n",
    "print(f\"Average Mean Absolute Error (MAE): {mean_mae}\")\n",
    "print(f\"Average R-squared (R^2): {mean_r2}\")\n"
   ]
  }
 ],
 "metadata": {
  "kernelspec": {
   "display_name": "Python 3",
   "language": "python",
   "name": "python3"
  },
  "language_info": {
   "codemirror_mode": {
    "name": "ipython",
    "version": 3
   },
   "file_extension": ".py",
   "mimetype": "text/x-python",
   "name": "python",
   "nbconvert_exporter": "python",
   "pygments_lexer": "ipython3",
   "version": "3.13.0"
  }
 },
 "nbformat": 4,
 "nbformat_minor": 2
}
